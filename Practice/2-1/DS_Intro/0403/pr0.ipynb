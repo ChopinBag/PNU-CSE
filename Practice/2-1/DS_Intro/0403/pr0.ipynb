{
 "cells": [
  {
   "cell_type": "markdown",
   "metadata": {},
   "source": [
    "# 야구기록"
   ]
  },
  {
   "cell_type": "code",
   "execution_count": 6,
   "metadata": {},
   "outputs": [
    {
     "data": {
      "text/html": [
       "<div>\n",
       "<style scoped>\n",
       "    .dataframe tbody tr th:only-of-type {\n",
       "        vertical-align: middle;\n",
       "    }\n",
       "\n",
       "    .dataframe tbody tr th {\n",
       "        vertical-align: top;\n",
       "    }\n",
       "\n",
       "    .dataframe thead th {\n",
       "        text-align: right;\n",
       "    }\n",
       "</style>\n",
       "<table border=\"1\" class=\"dataframe\">\n",
       "  <thead>\n",
       "    <tr style=\"text-align: right;\">\n",
       "      <th></th>\n",
       "      <th>타율 순위</th>\n",
       "      <th>타점 순위</th>\n",
       "      <th>홈런 순위</th>\n",
       "      <th>도루 순위</th>\n",
       "    </tr>\n",
       "  </thead>\n",
       "  <tbody>\n",
       "    <tr>\n",
       "      <th>0</th>\n",
       "      <td>선수 페이지  1  김선빈  KIA  0.370  2  박건우  두산  0.366 ...</td>\n",
       "      <td>선수 페이지  1  러프  삼성  124  2  최형우  KIA  120  3  김...</td>\n",
       "      <td>선수 페이지  1  최정  SK  46  2  로사리오  한화  37  3  김재환...</td>\n",
       "      <td>선수 페이지  1  박해민  삼성  40  2  버나디나  KIA  32  3  손...</td>\n",
       "    </tr>\n",
       "  </tbody>\n",
       "</table>\n",
       "</div>"
      ],
      "text/plain": [
       "                                               타율 순위  \\\n",
       "0  선수 페이지  1  김선빈  KIA  0.370  2  박건우  두산  0.366 ...   \n",
       "\n",
       "                                               타점 순위  \\\n",
       "0  선수 페이지  1  러프  삼성  124  2  최형우  KIA  120  3  김...   \n",
       "\n",
       "                                               홈런 순위  \\\n",
       "0  선수 페이지  1  최정  SK  46  2  로사리오  한화  37  3  김재환...   \n",
       "\n",
       "                                               도루 순위  \n",
       "0  선수 페이지  1  박해민  삼성  40  2  버나디나  KIA  32  3  손...  "
      ]
     },
     "execution_count": 6,
     "metadata": {},
     "output_type": "execute_result"
    }
   ],
   "source": [
    "import pandas as pd\n",
    "\n",
    "url = 'https://sports.news.naver.com/kbaseball/record/index?category=kbo&year=2017'\n",
    "df = pd.read_html(url)\n",
    "df[2]"
   ]
  }
 ],
 "metadata": {
  "kernelspec": {
   "display_name": ".venv",
   "language": "python",
   "name": "python3"
  },
  "language_info": {
   "codemirror_mode": {
    "name": "ipython",
    "version": 3
   },
   "file_extension": ".py",
   "mimetype": "text/x-python",
   "name": "python",
   "nbconvert_exporter": "python",
   "pygments_lexer": "ipython3",
   "version": "3.12.2"
  }
 },
 "nbformat": 4,
 "nbformat_minor": 2
}
