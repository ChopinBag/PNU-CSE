{
 "cells": [
  {
   "cell_type": "code",
   "execution_count": null,
   "metadata": {},
   "outputs": [
    {
     "ename": "",
     "evalue": "",
     "output_type": "error",
     "traceback": [
      "\u001b[1;31mPython 환경 'Python 3.11.7'을(를) 더 이상 사용할 수 없도록 하여 커널을 시작하지 못했습니다. 다른 커널을 선택하거나 Python 환경 목록을 새로 고치는 것이 좋습니다."
     ]
    }
   ],
   "source": [
    "import sys\n",
    "print(sys.executable)"
   ]
  }
 ],
 "metadata": {
  "kernelspec": {
   "display_name": ".venv",
   "language": "python",
   "name": "python3"
  },
  "language_info": {
   "name": "python",
   "version": "3.12.2"
  }
 },
 "nbformat": 4,
 "nbformat_minor": 2
}
