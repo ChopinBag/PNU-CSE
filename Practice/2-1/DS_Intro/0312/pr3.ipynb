{
 "cells": [
  {
   "cell_type": "markdown",
   "metadata": {},
   "source": [
    "# 실습 3"
   ]
  },
  {
   "cell_type": "markdown",
   "metadata": {},
   "source": [
    "### mpg는 miles per gallon의 줄임말이다, 우리나라 단위인 killometer per liter로 바꾸고 kpl 이름으로 새로운 열(kpl)을 추가하시오.\n",
    "\n",
    "– mpg_to_kpl = 1.60934/3.78541"
   ]
  },
  {
   "cell_type": "code",
   "execution_count": null,
   "metadata": {},
   "outputs": [
    {
     "data": {
      "text/plain": [
       "0       7.652571\n",
       "1       6.377143\n",
       "2       7.652571\n",
       "3       6.802286\n",
       "4       7.227428\n",
       "         ...    \n",
       "387    11.478857\n",
       "388    18.706285\n",
       "389    13.604571\n",
       "390    11.904000\n",
       "391    13.179428\n",
       "Name: kpl, Length: 392, dtype: float64"
      ]
     },
     "execution_count": 5,
     "metadata": {},
     "output_type": "execute_result"
    }
   ],
   "source": [
    "import pandas as pd\n",
    "\n",
    "df = pd.read_csv('assets/auto.csv')\n",
    "\n",
    "df['kpl'] = df['mpg'] * 1.60934 / 3.78541\n",
    "df['weight_kg'] = df['weight'] / 2.20462\n",
    "new_para = df['kpl'] / df['weight_kg']\n",
    "\n",
    "df['kpl']"
   ]
  },
  {
   "cell_type": "markdown",
   "metadata": {},
   "source": [
    "### weight는 현재 파운드 단위로 되어 있다, 우리나라 단위인 kg으로 바꾸고 새로운 열을\n",
    "### weight_kg 이름으로 추가하시오.\n",
    "\n",
    "– kg = lbs / 2.20462"
   ]
  },
  {
   "cell_type": "code",
   "execution_count": 6,
   "metadata": {},
   "outputs": [
    {
     "data": {
      "text/plain": [
       "0      1589.389555\n",
       "1      1675.118615\n",
       "2      1558.545237\n",
       "3      1557.184458\n",
       "4      1564.441945\n",
       "          ...     \n",
       "387    1265.524217\n",
       "388     966.152897\n",
       "389    1040.995727\n",
       "390    1190.681387\n",
       "391    1233.772714\n",
       "Name: weight_kg, Length: 392, dtype: float64"
      ]
     },
     "execution_count": 6,
     "metadata": {},
     "output_type": "execute_result"
    }
   ],
   "source": [
    "df['weight_kg']"
   ]
  },
  {
   "cell_type": "markdown",
   "metadata": {},
   "source": [
    "### 연비(Kpl)를 무게(kg)로 나눈 새로운 변수 new_para 를 추가하시오."
   ]
  },
  {
   "cell_type": "code",
   "execution_count": 7,
   "metadata": {},
   "outputs": [
    {
     "data": {
      "text/plain": [
       "0      0.004815\n",
       "1      0.003807\n",
       "2      0.004910\n",
       "3      0.004368\n",
       "4      0.004620\n",
       "         ...   \n",
       "387    0.009070\n",
       "388    0.019362\n",
       "389    0.013069\n",
       "390    0.009998\n",
       "391    0.010682\n",
       "Length: 392, dtype: float64"
      ]
     },
     "execution_count": 7,
     "metadata": {},
     "output_type": "execute_result"
    }
   ],
   "source": [
    "new_para"
   ]
  }
 ],
 "metadata": {
  "kernelspec": {
   "display_name": ".venv",
   "language": "python",
   "name": "python3"
  },
  "language_info": {
   "codemirror_mode": {
    "name": "ipython",
    "version": 3
   },
   "file_extension": ".py",
   "mimetype": "text/x-python",
   "name": "python",
   "nbconvert_exporter": "python",
   "pygments_lexer": "ipython3",
   "version": "3.12.2"
  }
 },
 "nbformat": 4,
 "nbformat_minor": 2
}
