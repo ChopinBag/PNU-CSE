{
 "cells": [
  {
   "cell_type": "markdown",
   "metadata": {},
   "source": [
    "# 실습 5"
   ]
  },
  {
   "cell_type": "code",
   "execution_count": 2,
   "metadata": {},
   "outputs": [],
   "source": [
    "# 실습 5\n",
    "import pandas as pd\n",
    "\n",
    "df = pd.read_csv('assets/titanic.csv')\n",
    "\n",
    "df['isAlone'] = ((df['SibSp'] == 0) & (df['Parch'] == 0)).map({True: 1, False: 0})\n",
    "df['Alone'] = ((df['SibSp'] == 0) & (df['Parch'] == 0)).map({True: 'yes', False: 'no'})\n",
    "df['class'] = (df['Pclass']).map({3 : 'third', 2 : 'second', 1 : 'first'})\n",
    "df['isAdultMale'] = ((df['Sex'] == 'male') & (df['Age'] > 18)).map({True: 1, False: 0})\n",
    "\n",
    "\n"
   ]
  },
  {
   "cell_type": "markdown",
   "metadata": {},
   "source": [
    "# 실습 6"
   ]
  },
  {
   "cell_type": "code",
   "execution_count": 7,
   "metadata": {},
   "outputs": [
    {
     "name": "stdout",
     "output_type": "stream",
     "text": [
      "\n",
      " first : 84.15 \n",
      " second : 20.66 \n",
      " third : 13.68\n",
      "\n",
      " Adult male survive ratio : 0.18 \n",
      " Not adult male survive ratio : 0.54\n",
      "\n",
      " Alone survive ratio : 0.30 \n",
      " Not alone survive ratio : 0.51\n",
      "\n",
      "Survival rate by age group:\n",
      "AgeGroup\n",
      "Child/Teen    0.503597\n",
      "Adult         0.388788\n",
      "Elderly       0.227273\n",
      "Name: Survived, dtype: float64\n"
     ]
    },
    {
     "name": "stderr",
     "output_type": "stream",
     "text": [
      "/var/folders/gj/1t9chmgn04d1ldt802d2z_080000gn/T/ipykernel_32826/2130709667.py:19: FutureWarning: The default of observed=False is deprecated and will be changed to True in a future version of pandas. Pass observed=False to retain current behavior or observed=True to adopt the future default and silence this warning.\n",
      "  age_group_survival = df.groupby('AgeGroup')['Survived'].mean()\n"
     ]
    }
   ],
   "source": [
    "# 실습 6\n",
    "\n",
    "# import pandas as pd\n",
    "\n",
    "# df = pd.read_csv('assets/titanic.csv')\n",
    "\n",
    "c1_mean_fare = df[df['Pclass'] == 1]['Fare'].mean()\n",
    "c2_mean_fare = df[df['Pclass'] == 2]['Fare'].mean()\n",
    "c3_mean_fare = df[df['Pclass'] == 3]['Fare'].mean()\n",
    "\n",
    "adult_male_survive = df.loc[(df['isAdultMale'] == 1), 'Survived'].mean()\n",
    "not_AM_survive = df.loc[(df['isAdultMale'] == 0), 'Survived'].mean()\n",
    "\n",
    "alone_survive = df.loc[df['isAlone'] == 1, 'Survived'].mean()\n",
    "not_alone_survive = df.loc[df['isAlone'] == 0, 'Survived'].mean()\n",
    "\n",
    "df['AgeGroup'] = pd.cut(df['Age'], bins=[0, 18, 60, float('inf')], labels=['Child/Teen', 'Adult', 'Elderly'])\n",
    "\n",
    "age_group_survival = df.groupby('AgeGroup')['Survived'].mean()\n",
    "\n",
    "\n",
    "\n",
    "print(f'\\n first : {c1_mean_fare:.2f} \\n second : {c2_mean_fare:.2f} \\n third : {c3_mean_fare:.2f}')\n",
    "print(f\"\\n Adult male survive ratio : {adult_male_survive:.2f} \\n Not adult male survive ratio : {not_AM_survive:.2f}\")\n",
    "print(f\"\\n Alone survive ratio : {alone_survive:.2f} \\n Not alone survive ratio : {not_alone_survive:.2f}\")\n",
    "print(f'\\nSurvival rate by age group:\\n{age_group_survival}')"
   ]
  }
 ],
 "metadata": {
  "kernelspec": {
   "display_name": ".venv",
   "language": "python",
   "name": "python3"
  },
  "language_info": {
   "codemirror_mode": {
    "name": "ipython",
    "version": 3
   },
   "file_extension": ".py",
   "mimetype": "text/x-python",
   "name": "python",
   "nbconvert_exporter": "python",
   "pygments_lexer": "ipython3",
   "version": "3.12.2"
  }
 },
 "nbformat": 4,
 "nbformat_minor": 2
}
