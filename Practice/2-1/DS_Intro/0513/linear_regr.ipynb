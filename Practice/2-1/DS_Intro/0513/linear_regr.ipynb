{
 "cells": [
  {
   "cell_type": "code",
   "execution_count": 2,
   "id": "f2e32c62",
   "metadata": {},
   "outputs": [],
   "source": [
    "import numpy as np\n",
    "import matplotlib.pyplot as plt"
   ]
  },
  {
   "cell_type": "code",
   "execution_count": 3,
   "id": "f21e3860",
   "metadata": {},
   "outputs": [
    {
     "data": {
      "image/png": "[encoded data removed]",
      "text/plain": [
       "<Figure size 600x400 with 1 Axes>"
      ]
     },
     "metadata": {},
     "output_type": "display_data"
    }
   ],
   "source": [
    "np.random.seed(42)\n",
    "m = 100\n",
    "X = 2 * np.random.rand(m,1)\n",
    "y = 4 + 3 * X + np.random.randn(m,1)\n",
    "\n",
    "plt.figure(figsize=(6,4))\n",
    "plt.plot(X,y,\"b.\")\n",
    "plt.xlabel(\"&x_1$\")\n",
    "plt.ylabel(\"$y$\", rotation=0)\n",
    "plt.axis([0,2,0,15])\n",
    "plt.grid()\n",
    "plt.show()"
   ]
  },
  {
   "cell_type": "code",
   "execution_count": 4,
   "id": "28ce75c2",
   "metadata": {},
   "outputs": [
    {
     "data": {
      "text/plain": [
       "array([[1.        , 0.74908024],\n",
       "       [1.        , 1.90142861],\n",
       "       [1.        , 1.46398788],\n",
       "       [1.        , 1.19731697],\n",
       "       [1.        , 0.31203728],\n",
       "       [1.        , 0.31198904],\n",
       "       [1.        , 0.11616722],\n",
       "       [1.        , 1.73235229],\n",
       "       [1.        , 1.20223002],\n",
       "       [1.        , 1.41614516],\n",
       "       [1.        , 0.04116899],\n",
       "       [1.        , 1.9398197 ],\n",
       "       [1.        , 1.66488528],\n",
       "       [1.        , 0.42467822],\n",
       "       [1.        , 0.36364993],\n",
       "       [1.        , 0.36680902],\n",
       "       [1.        , 0.60848449],\n",
       "       [1.        , 1.04951286],\n",
       "       [1.        , 0.86389004],\n",
       "       [1.        , 0.58245828],\n",
       "       [1.        , 1.22370579],\n",
       "       [1.        , 0.27898772],\n",
       "       [1.        , 0.5842893 ],\n",
       "       [1.        , 0.73272369],\n",
       "       [1.        , 0.91213997],\n",
       "       [1.        , 1.57035192],\n",
       "       [1.        , 0.39934756],\n",
       "       [1.        , 1.02846888],\n",
       "       [1.        , 1.18482914],\n",
       "       [1.        , 0.09290083],\n",
       "       [1.        , 1.2150897 ],\n",
       "       [1.        , 0.34104825],\n",
       "       [1.        , 0.13010319],\n",
       "       [1.        , 1.89777107],\n",
       "       [1.        , 1.93126407],\n",
       "       [1.        , 1.6167947 ],\n",
       "       [1.        , 0.60922754],\n",
       "       [1.        , 0.19534423],\n",
       "       [1.        , 1.36846605],\n",
       "       [1.        , 0.88030499],\n",
       "       [1.        , 0.24407647],\n",
       "       [1.        , 0.99035382],\n",
       "       [1.        , 0.06877704],\n",
       "       [1.        , 1.8186408 ],\n",
       "       [1.        , 0.51755996],\n",
       "       [1.        , 1.32504457],\n",
       "       [1.        , 0.62342215],\n",
       "       [1.        , 1.04013604],\n",
       "       [1.        , 1.09342056],\n",
       "       [1.        , 0.36970891],\n",
       "       [1.        , 1.93916926],\n",
       "       [1.        , 1.55026565],\n",
       "       [1.        , 1.87899788],\n",
       "       [1.        , 1.7896547 ],\n",
       "       [1.        , 1.19579996],\n",
       "       [1.        , 1.84374847],\n",
       "       [1.        , 0.176985  ],\n",
       "       [1.        , 0.39196572],\n",
       "       [1.        , 0.09045458],\n",
       "       [1.        , 0.65066066],\n",
       "       [1.        , 0.77735458],\n",
       "       [1.        , 0.54269806],\n",
       "       [1.        , 1.65747502],\n",
       "       [1.        , 0.71350665],\n",
       "       [1.        , 0.56186902],\n",
       "       [1.        , 1.08539217],\n",
       "       [1.        , 0.28184845],\n",
       "       [1.        , 1.60439396],\n",
       "       [1.        , 0.14910129],\n",
       "       [1.        , 1.97377387],\n",
       "       [1.        , 1.54448954],\n",
       "       [1.        , 0.39743136],\n",
       "       [1.        , 0.01104423],\n",
       "       [1.        , 1.63092286],\n",
       "       [1.        , 1.41371469],\n",
       "       [1.        , 1.45801434],\n",
       "       [1.        , 1.54254069],\n",
       "       [1.        , 0.1480893 ],\n",
       "       [1.        , 0.71693146],\n",
       "       [1.        , 0.23173812],\n",
       "       [1.        , 1.72620685],\n",
       "       [1.        , 1.24659625],\n",
       "       [1.        , 0.66179605],\n",
       "       [1.        , 0.1271167 ],\n",
       "       [1.        , 0.62196464],\n",
       "       [1.        , 0.65036664],\n",
       "       [1.        , 1.45921236],\n",
       "       [1.        , 1.27511494],\n",
       "       [1.        , 1.77442549],\n",
       "       [1.        , 0.94442985],\n",
       "       [1.        , 0.23918849],\n",
       "       [1.        , 1.42648957],\n",
       "       [1.        , 1.5215701 ],\n",
       "       [1.        , 1.1225544 ],\n",
       "       [1.        , 1.54193436],\n",
       "       [1.        , 0.98759119],\n",
       "       [1.        , 1.04546566],\n",
       "       [1.        , 0.85508204],\n",
       "       [1.        , 0.05083825],\n",
       "       [1.        , 0.21578285]])"
      ]
     },
     "execution_count": 4,
     "metadata": {},
     "output_type": "execute_result"
    }
   ],
   "source": [
    "from sklearn.preprocessing import add_dummy_feature\n",
    "X_b = add_dummy_feature(X)\n",
    "X_b"
   ]
  },
  {
   "cell_type": "code",
   "execution_count": 5,
   "id": "3c807ae0",
   "metadata": {},
   "outputs": [
    {
     "data": {
      "text/plain": [
       "array([[4.21509616],\n",
       "       [2.77011339]])"
      ]
     },
     "execution_count": 5,
     "metadata": {},
     "output_type": "execute_result"
    }
   ],
   "source": [
    "theta_best = np.linalg.inv(X_b.T @ X_b) @ X_b.T @ y\n",
    "theta_best"
   ]
  },
  {
   "cell_type": "code",
   "execution_count": 6,
   "id": "d03d415a",
   "metadata": {},
   "outputs": [
    {
     "data": {
      "text/plain": [
       "array([[4.21509616],\n",
       "       [4.27049843],\n",
       "       [4.32590069],\n",
       "       [4.38130296],\n",
       "       [4.43670523],\n",
       "       [4.4921075 ],\n",
       "       [4.54750976],\n",
       "       [4.60291203],\n",
       "       [4.6583143 ],\n",
       "       [4.71371657],\n",
       "       [4.76911883],\n",
       "       [4.8245211 ],\n",
       "       [4.87992337],\n",
       "       [4.93532564],\n",
       "       [4.99072791],\n",
       "       [5.04613017],\n",
       "       [5.10153244],\n",
       "       [5.15693471],\n",
       "       [5.21233698],\n",
       "       [5.26773924],\n",
       "       [5.32314151],\n",
       "       [5.37854378],\n",
       "       [5.43394605],\n",
       "       [5.48934832],\n",
       "       [5.54475058],\n",
       "       [5.60015285],\n",
       "       [5.65555512],\n",
       "       [5.71095739],\n",
       "       [5.76635965],\n",
       "       [5.82176192],\n",
       "       [5.87716419],\n",
       "       [5.93256646],\n",
       "       [5.98796872],\n",
       "       [6.04337099],\n",
       "       [6.09877326],\n",
       "       [6.15417553],\n",
       "       [6.2095778 ],\n",
       "       [6.26498006],\n",
       "       [6.32038233],\n",
       "       [6.3757846 ],\n",
       "       [6.43118687],\n",
       "       [6.48658913],\n",
       "       [6.5419914 ],\n",
       "       [6.59739367],\n",
       "       [6.65279594],\n",
       "       [6.70819821],\n",
       "       [6.76360047],\n",
       "       [6.81900274],\n",
       "       [6.87440501],\n",
       "       [6.92980728],\n",
       "       [6.98520954],\n",
       "       [7.04061181],\n",
       "       [7.09601408],\n",
       "       [7.15141635],\n",
       "       [7.20681861],\n",
       "       [7.26222088],\n",
       "       [7.31762315],\n",
       "       [7.37302542],\n",
       "       [7.42842769],\n",
       "       [7.48382995],\n",
       "       [7.53923222],\n",
       "       [7.59463449],\n",
       "       [7.65003676],\n",
       "       [7.70543902],\n",
       "       [7.76084129],\n",
       "       [7.81624356],\n",
       "       [7.87164583],\n",
       "       [7.9270481 ],\n",
       "       [7.98245036],\n",
       "       [8.03785263],\n",
       "       [8.0932549 ],\n",
       "       [8.14865717],\n",
       "       [8.20405943],\n",
       "       [8.2594617 ],\n",
       "       [8.31486397],\n",
       "       [8.37026624],\n",
       "       [8.4256685 ],\n",
       "       [8.48107077],\n",
       "       [8.53647304],\n",
       "       [8.59187531],\n",
       "       [8.64727758],\n",
       "       [8.70267984],\n",
       "       [8.75808211],\n",
       "       [8.81348438],\n",
       "       [8.86888665],\n",
       "       [8.92428891],\n",
       "       [8.97969118],\n",
       "       [9.03509345],\n",
       "       [9.09049572],\n",
       "       [9.14589799],\n",
       "       [9.20130025],\n",
       "       [9.25670252],\n",
       "       [9.31210479],\n",
       "       [9.36750706],\n",
       "       [9.42290932],\n",
       "       [9.47831159],\n",
       "       [9.53371386],\n",
       "       [9.58911613],\n",
       "       [9.64451839],\n",
       "       [9.69992066],\n",
       "       [9.75532293]])"
      ]
     },
     "execution_count": 6,
     "metadata": {},
     "output_type": "execute_result"
    }
   ],
   "source": [
    "X_new = np.linspace(0,2,101).reshape(101,1)\n",
    "X_new_b = add_dummy_feature(X_new)\n",
    "y_predict = X_new_b @ theta_best\n",
    "y_predict"
   ]
  },
  {
   "cell_type": "code",
   "execution_count": 7,
   "id": "7dca66a8",
   "metadata": {},
   "outputs": [
    {
     "data": {
      "image/png": "[encoded data removed]",
      "text/plain": [
       "<Figure size 600x400 with 1 Axes>"
      ]
     },
     "metadata": {},
     "output_type": "display_data"
    }
   ],
   "source": [
    "plt.figure(figsize=(6,4))\n",
    "plt.plot(X_new, y_predict,\"r-\",label=\"Predictions_normal_eq\")\n",
    "plt.plot(X,y,\"b.\")\n",
    "plt.xlabel(\"&x_1$\")\n",
    "plt.ylabel(\"$y$\", rotation=0)\n",
    "plt.axis([0,2,0,15])\n",
    "plt.grid()\n",
    "plt.legend(loc=\"upper left\")\n",
    "plt.show()"
   ]
  },
  {
   "cell_type": "code",
   "execution_count": 9,
   "id": "300f2b71",
   "metadata": {},
   "outputs": [
    {
     "data": {
      "text/plain": [
       "(array([4.21509616]), array([[2.77011339]]))"
      ]
     },
     "execution_count": 9,
     "metadata": {},
     "output_type": "execute_result"
    }
   ],
   "source": [
    "from sklearn.linear_model import LinearRegression\n",
    "\n",
    "lin_reg = LinearRegression()\n",
    "lin_reg.fit(X,y)\n",
    "lin_reg.intercept_, lin_reg.coef_\n"
   ]
  },
  {
   "cell_type": "code",
   "execution_count": 10,
   "id": "f1afa379",
   "metadata": {},
   "outputs": [
    {
     "data": {
      "text/plain": [
       "array([[4.21509616],\n",
       "       [4.27049843],\n",
       "       [4.32590069],\n",
       "       [4.38130296],\n",
       "       [4.43670523],\n",
       "       [4.4921075 ],\n",
       "       [4.54750976],\n",
       "       [4.60291203],\n",
       "       [4.6583143 ],\n",
       "       [4.71371657],\n",
       "       [4.76911883],\n",
       "       [4.8245211 ],\n",
       "       [4.87992337],\n",
       "       [4.93532564],\n",
       "       [4.99072791],\n",
       "       [5.04613017],\n",
       "       [5.10153244],\n",
       "       [5.15693471],\n",
       "       [5.21233698],\n",
       "       [5.26773924],\n",
       "       [5.32314151],\n",
       "       [5.37854378],\n",
       "       [5.43394605],\n",
       "       [5.48934832],\n",
       "       [5.54475058],\n",
       "       [5.60015285],\n",
       "       [5.65555512],\n",
       "       [5.71095739],\n",
       "       [5.76635965],\n",
       "       [5.82176192],\n",
       "       [5.87716419],\n",
       "       [5.93256646],\n",
       "       [5.98796872],\n",
       "       [6.04337099],\n",
       "       [6.09877326],\n",
       "       [6.15417553],\n",
       "       [6.2095778 ],\n",
       "       [6.26498006],\n",
       "       [6.32038233],\n",
       "       [6.3757846 ],\n",
       "       [6.43118687],\n",
       "       [6.48658913],\n",
       "       [6.5419914 ],\n",
       "       [6.59739367],\n",
       "       [6.65279594],\n",
       "       [6.70819821],\n",
       "       [6.76360047],\n",
       "       [6.81900274],\n",
       "       [6.87440501],\n",
       "       [6.92980728],\n",
       "       [6.98520954],\n",
       "       [7.04061181],\n",
       "       [7.09601408],\n",
       "       [7.15141635],\n",
       "       [7.20681861],\n",
       "       [7.26222088],\n",
       "       [7.31762315],\n",
       "       [7.37302542],\n",
       "       [7.42842769],\n",
       "       [7.48382995],\n",
       "       [7.53923222],\n",
       "       [7.59463449],\n",
       "       [7.65003676],\n",
       "       [7.70543902],\n",
       "       [7.76084129],\n",
       "       [7.81624356],\n",
       "       [7.87164583],\n",
       "       [7.9270481 ],\n",
       "       [7.98245036],\n",
       "       [8.03785263],\n",
       "       [8.0932549 ],\n",
       "       [8.14865717],\n",
       "       [8.20405943],\n",
       "       [8.2594617 ],\n",
       "       [8.31486397],\n",
       "       [8.37026624],\n",
       "       [8.4256685 ],\n",
       "       [8.48107077],\n",
       "       [8.53647304],\n",
       "       [8.59187531],\n",
       "       [8.64727758],\n",
       "       [8.70267984],\n",
       "       [8.75808211],\n",
       "       [8.81348438],\n",
       "       [8.86888665],\n",
       "       [8.92428891],\n",
       "       [8.97969118],\n",
       "       [9.03509345],\n",
       "       [9.09049572],\n",
       "       [9.14589799],\n",
       "       [9.20130025],\n",
       "       [9.25670252],\n",
       "       [9.31210479],\n",
       "       [9.36750706],\n",
       "       [9.42290932],\n",
       "       [9.47831159],\n",
       "       [9.53371386],\n",
       "       [9.58911613],\n",
       "       [9.64451839],\n",
       "       [9.69992066],\n",
       "       [9.75532293]])"
      ]
     },
     "execution_count": 10,
     "metadata": {},
     "output_type": "execute_result"
    }
   ],
   "source": [
    "theta_best_sklearn = np.array([lin_reg.intercept_, lin_reg.coef_[0]])\n",
    "\n",
    "y_predict_sklearn = X_new_b @ theta_best_sklearn\n",
    "y_predict_sklearn"
   ]
  },
  {
   "cell_type": "code",
   "execution_count": 11,
   "id": "04003c5c",
   "metadata": {},
   "outputs": [
    {
     "data": {
      "image/png": "[encoded data removed]",
      "text/plain": [
       "<Figure size 600x400 with 1 Axes>"
      ]
     },
     "metadata": {},
     "output_type": "display_data"
    }
   ],
   "source": [
    "plt.figure(figsize=(6,4))\n",
    "plt.plot(X_new, y_predict_sklearn,\"r-\",label=\"Predictions_sklearn\")\n",
    "plt.plot(X,y,\"b.\")\n",
    "plt.xlabel(\"&x_1$\")\n",
    "plt.ylabel(\"$y$\", rotation=0)\n",
    "plt.axis([0,2,0,15])\n",
    "plt.grid()\n",
    "plt.legend(loc=\"upper left\")\n",
    "plt.show()"
   ]
  },
  {
   "cell_type": "code",
   "execution_count": 12,
   "id": "ea793a92",
   "metadata": {},
   "outputs": [
    {
     "ename": "ValueError",
     "evalue": "Found input variables with inconsistent numbers of samples: [100, 101]",
     "output_type": "error",
     "traceback": [
      "\u001b[0;31m---------------------------------------------------------------------------\u001b[0m",
      "\u001b[0;31mValueError\u001b[0m                                Traceback (most recent call last)",
      "Cell \u001b[0;32mIn[12], line 3\u001b[0m\n\u001b[1;32m      1\u001b[0m \u001b[38;5;28;01mfrom\u001b[39;00m \u001b[38;5;21;01msklearn\u001b[39;00m\u001b[38;5;21;01m.\u001b[39;00m\u001b[38;5;21;01mmetrics\u001b[39;00m \u001b[38;5;28;01mimport\u001b[39;00m median_absolute_error\n\u001b[0;32m----> 3\u001b[0m median_absolute_error(y, y_predict_sklearn)\n",
      "File \u001b[0;32m/opt/anaconda3/lib/python3.11/site-packages/sklearn/metrics/_regression.py:595\u001b[0m, in \u001b[0;36mmedian_absolute_error\u001b[0;34m(y_true, y_pred, multioutput, sample_weight)\u001b[0m\n\u001b[1;32m    539\u001b[0m \u001b[38;5;28;01mdef\u001b[39;00m \u001b[38;5;21mmedian_absolute_error\u001b[39m(\n\u001b[1;32m    540\u001b[0m     y_true, y_pred, \u001b[38;5;241m*\u001b[39m, multioutput\u001b[38;5;241m=\u001b[39m\u001b[38;5;124m\"\u001b[39m\u001b[38;5;124muniform_average\u001b[39m\u001b[38;5;124m\"\u001b[39m, sample_weight\u001b[38;5;241m=\u001b[39m\u001b[38;5;28;01mNone\u001b[39;00m\n\u001b[1;32m    541\u001b[0m ):\n\u001b[1;32m    542\u001b[0m \u001b[38;5;250m    \u001b[39m\u001b[38;5;124;03m\"\"\"Median absolute error regression loss.\u001b[39;00m\n\u001b[1;32m    543\u001b[0m \n\u001b[1;32m    544\u001b[0m \u001b[38;5;124;03m    Median absolute error output is non-negative floating point. The best value\u001b[39;00m\n\u001b[0;32m   (...)\u001b[0m\n\u001b[1;32m    593\u001b[0m \u001b[38;5;124;03m    0.85\u001b[39;00m\n\u001b[1;32m    594\u001b[0m \u001b[38;5;124;03m    \"\"\"\u001b[39;00m\n\u001b[0;32m--> 595\u001b[0m     y_type, y_true, y_pred, multioutput \u001b[38;5;241m=\u001b[39m _check_reg_targets(\n\u001b[1;32m    596\u001b[0m         y_true, y_pred, multioutput\n\u001b[1;32m    597\u001b[0m     )\n\u001b[1;32m    598\u001b[0m     \u001b[38;5;28;01mif\u001b[39;00m sample_weight \u001b[38;5;129;01mis\u001b[39;00m \u001b[38;5;28;01mNone\u001b[39;00m:\n\u001b[1;32m    599\u001b[0m         output_errors \u001b[38;5;241m=\u001b[39m np\u001b[38;5;241m.\u001b[39mmedian(np\u001b[38;5;241m.\u001b[39mabs(y_pred \u001b[38;5;241m-\u001b[39m y_true), axis\u001b[38;5;241m=\u001b[39m\u001b[38;5;241m0\u001b[39m)\n",
      "File \u001b[0;32m/opt/anaconda3/lib/python3.11/site-packages/sklearn/metrics/_regression.py:100\u001b[0m, in \u001b[0;36m_check_reg_targets\u001b[0;34m(y_true, y_pred, multioutput, dtype)\u001b[0m\n\u001b[1;32m     66\u001b[0m \u001b[38;5;28;01mdef\u001b[39;00m \u001b[38;5;21m_check_reg_targets\u001b[39m(y_true, y_pred, multioutput, dtype\u001b[38;5;241m=\u001b[39m\u001b[38;5;124m\"\u001b[39m\u001b[38;5;124mnumeric\u001b[39m\u001b[38;5;124m\"\u001b[39m):\n\u001b[1;32m     67\u001b[0m \u001b[38;5;250m    \u001b[39m\u001b[38;5;124;03m\"\"\"Check that y_true and y_pred belong to the same regression task.\u001b[39;00m\n\u001b[1;32m     68\u001b[0m \n\u001b[1;32m     69\u001b[0m \u001b[38;5;124;03m    Parameters\u001b[39;00m\n\u001b[0;32m   (...)\u001b[0m\n\u001b[1;32m     98\u001b[0m \u001b[38;5;124;03m        correct keyword.\u001b[39;00m\n\u001b[1;32m     99\u001b[0m \u001b[38;5;124;03m    \"\"\"\u001b[39;00m\n\u001b[0;32m--> 100\u001b[0m     check_consistent_length(y_true, y_pred)\n\u001b[1;32m    101\u001b[0m     y_true \u001b[38;5;241m=\u001b[39m check_array(y_true, ensure_2d\u001b[38;5;241m=\u001b[39m\u001b[38;5;28;01mFalse\u001b[39;00m, dtype\u001b[38;5;241m=\u001b[39mdtype)\n\u001b[1;32m    102\u001b[0m     y_pred \u001b[38;5;241m=\u001b[39m check_array(y_pred, ensure_2d\u001b[38;5;241m=\u001b[39m\u001b[38;5;28;01mFalse\u001b[39;00m, dtype\u001b[38;5;241m=\u001b[39mdtype)\n",
      "File \u001b[0;32m/opt/anaconda3/lib/python3.11/site-packages/sklearn/utils/validation.py:397\u001b[0m, in \u001b[0;36mcheck_consistent_length\u001b[0;34m(*arrays)\u001b[0m\n\u001b[1;32m    395\u001b[0m uniques \u001b[38;5;241m=\u001b[39m np\u001b[38;5;241m.\u001b[39munique(lengths)\n\u001b[1;32m    396\u001b[0m \u001b[38;5;28;01mif\u001b[39;00m \u001b[38;5;28mlen\u001b[39m(uniques) \u001b[38;5;241m>\u001b[39m \u001b[38;5;241m1\u001b[39m:\n\u001b[0;32m--> 397\u001b[0m     \u001b[38;5;28;01mraise\u001b[39;00m \u001b[38;5;167;01mValueError\u001b[39;00m(\n\u001b[1;32m    398\u001b[0m         \u001b[38;5;124m\"\u001b[39m\u001b[38;5;124mFound input variables with inconsistent numbers of samples: \u001b[39m\u001b[38;5;132;01m%r\u001b[39;00m\u001b[38;5;124m\"\u001b[39m\n\u001b[1;32m    399\u001b[0m         \u001b[38;5;241m%\u001b[39m [\u001b[38;5;28mint\u001b[39m(l) \u001b[38;5;28;01mfor\u001b[39;00m l \u001b[38;5;129;01min\u001b[39;00m lengths]\n\u001b[1;32m    400\u001b[0m     )\n",
      "\u001b[0;31mValueError\u001b[0m: Found input variables with inconsistent numbers of samples: [100, 101]"
     ]
    }
   ],
   "source": [
    "from sklearn.metrics import median_absolute_error\n",
    "\n",
    "median_absolute_error(y, y_predict_sklearn)"
   ]
  },
  {
   "cell_type": "code",
   "execution_count": null,
   "id": "f5002d41",
   "metadata": {},
   "outputs": [],
   "source": []
  }
 ],
 "metadata": {
  "kernelspec": {
   "display_name": "base",
   "language": "python",
   "name": "python3"
  },
  "language_info": {
   "codemirror_mode": {
    "name": "ipython",
    "version": 3
   },
   "file_extension": ".py",
   "mimetype": "text/x-python",
   "name": "python",
   "nbconvert_exporter": "python",
   "pygments_lexer": "ipython3",
   "version": "3.11.8"
  }
 },
 "nbformat": 4,
 "nbformat_minor": 5
}
