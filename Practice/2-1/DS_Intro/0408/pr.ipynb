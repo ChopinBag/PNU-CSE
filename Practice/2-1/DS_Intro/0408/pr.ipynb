{
 "cells": [
  {
   "cell_type": "code",
   "execution_count": 2,
   "metadata": {},
   "outputs": [
    {
     "name": "stdout",
     "output_type": "stream",
     "text": [
      "173.35823633743487\n"
     ]
    }
   ],
   "source": [
    "import numpy as np\n",
    "import matplotlib.pyplot as plt\n",
    "import pandas as pd\n",
    "import seaborn as sns\n",
    "import scipy.stats as stats\n",
    "\n",
    "data1 = pd.read_excel('../assets/고등학생_남자_키와 몸무게.xlsx')\n",
    "data2 = pd.read_excel('../assets/외식비.xlsx')\n",
    "data3 = pd.read_excel('../assets/초등학교3학년_남자.xlsx')\n",
    "\n",
    "print(np.mean(data1['height']))\n"
   ]
  },
  {
   "cell_type": "code",
   "execution_count": 3,
   "metadata": {},
   "outputs": [
    {
     "data": {
      "text/plain": [
       "냉면       570.215950\n",
       "비빔밥      640.063122\n",
       "김치찌개     383.691277\n",
       "삼겹살     1196.184599\n",
       "자장면      295.658805\n",
       "삼계탕      681.856766\n",
       "칼국수      629.150615\n",
       "김밥       208.422608\n",
       "Name: 표준편차, dtype: float64"
      ]
     },
     "execution_count": 3,
     "metadata": {},
     "output_type": "execute_result"
    }
   ],
   "source": [
    "(data2.drop(columns='지역').std(axis=0)).rename('표준편차')"
   ]
  }
 ],
 "metadata": {
  "kernelspec": {
   "display_name": "base",
   "language": "python",
   "name": "python3"
  },
  "language_info": {
   "codemirror_mode": {
    "name": "ipython",
    "version": 3
   },
   "file_extension": ".py",
   "mimetype": "text/x-python",
   "name": "python",
   "nbconvert_exporter": "python",
   "pygments_lexer": "ipython3",
   "version": "3.11.8"
  }
 },
 "nbformat": 4,
 "nbformat_minor": 2
}
