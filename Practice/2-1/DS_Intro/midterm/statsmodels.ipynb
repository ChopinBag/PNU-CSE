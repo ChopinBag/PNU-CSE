{
 "cells": [
  {
   "cell_type": "code",
   "execution_count": 2,
   "id": "33af19af",
   "metadata": {},
   "outputs": [],
   "source": [
    "import numpy as np\n",
    "import pandas as pd\n",
    "import scipy.stats as stats\n",
    "\n",
    "df_boy_wh = pd.read_excel('../assets/고등학생_남자_키와 몸무게.xlsx')"
   ]
  },
  {
   "cell_type": "code",
   "execution_count": 8,
   "id": "9bbbfdbb",
   "metadata": {},
   "outputs": [
    {
     "name": "stdout",
     "output_type": "stream",
     "text": [
      "키 평균: 173.36, 가중 평균: 173.85, 중앙값: 173.3, 최빈값: ModeResult(mode=170.0, count=289)\n"
     ]
    }
   ],
   "source": [
    "hmean = np.mean(df_boy_wh['height'])\n",
    "havg = np.average(df_boy_wh['height'])\n",
    "havg = np.average(df_boy_wh['height'], weights=df_boy_wh['weight'])\n",
    "hmed = np.median(df_boy_wh['height'])\n",
    "hmode = stats.mode(df_boy_wh['height'])\n",
    "\n",
    "print(f\"키 평균: {hmean:.2f}, 가중 평균: {havg:.2f}, 중앙값: {hmed}, 최빈값: {hmode}\")"
   ]
  },
  {
   "cell_type": "code",
   "execution_count": 11,
   "id": "113d13b5",
   "metadata": {},
   "outputs": [
    {
     "data": {
      "text/plain": [
       "냉면      2088\n",
       "비빔밥     1823\n",
       "김치찌개    1569\n",
       "삼겹살     4234\n",
       "자장면      857\n",
       "삼계탕     2314\n",
       "칼국수     2179\n",
       "김밥       764\n",
       "Name: 범위, dtype: int64"
      ]
     },
     "execution_count": 11,
     "metadata": {},
     "output_type": "execute_result"
    }
   ],
   "source": [
    "df_foodcost = pd.read_excel(\"../assets/외식비.xlsx\")\n",
    "\n",
    "(df_foodcost.drop(columns='지역').max(axis=0) - df_foodcost.drop(columns='지역').min(axis=0)).rename('범위')"
   ]
  },
  {
   "cell_type": "code",
   "execution_count": 12,
   "id": "53159360",
   "metadata": {},
   "outputs": [
    {
     "data": {
      "text/plain": [
       "냉면       570.215950\n",
       "비빔밥      640.063122\n",
       "김치찌개     383.691277\n",
       "삼겹살     1196.184599\n",
       "자장면      295.658805\n",
       "삼계탕      681.856766\n",
       "칼국수      629.150615\n",
       "김밥       208.422608\n",
       "Name: 표준편차, dtype: float64"
      ]
     },
     "execution_count": 12,
     "metadata": {},
     "output_type": "execute_result"
    }
   ],
   "source": [
    "(df_foodcost.drop(columns='지역').std(axis=0)).rename('표준편차')"
   ]
  },
  {
   "cell_type": "code",
   "execution_count": 13,
   "id": "1c021314",
   "metadata": {},
   "outputs": [
    {
     "data": {
      "text/plain": [
       "냉면      3.251462e+05\n",
       "비빔밥     4.096808e+05\n",
       "김치찌개    1.472190e+05\n",
       "삼겹살     1.430858e+06\n",
       "자장면     8.741413e+04\n",
       "삼계탕     4.649286e+05\n",
       "칼국수     3.958305e+05\n",
       "김밥      4.343998e+04\n",
       "Name: 분산, dtype: float64"
      ]
     },
     "execution_count": 13,
     "metadata": {},
     "output_type": "execute_result"
    }
   ],
   "source": [
    "(df_foodcost.drop(columns='지역').var(axis=0)).rename('분산')"
   ]
  },
  {
   "cell_type": "code",
   "execution_count": 14,
   "id": "3462e918",
   "metadata": {},
   "outputs": [
    {
     "data": {
      "text/html": [
       "<div>\n",
       "<style scoped>\n",
       "    .dataframe tbody tr th:only-of-type {\n",
       "        vertical-align: middle;\n",
       "    }\n",
       "\n",
       "    .dataframe tbody tr th {\n",
       "        vertical-align: top;\n",
       "    }\n",
       "\n",
       "    .dataframe thead th {\n",
       "        text-align: right;\n",
       "    }\n",
       "</style>\n",
       "<table border=\"1\" class=\"dataframe\">\n",
       "  <thead>\n",
       "    <tr style=\"text-align: right;\">\n",
       "      <th></th>\n",
       "      <th>냉면</th>\n",
       "      <th>비빔밥</th>\n",
       "      <th>김치찌개</th>\n",
       "      <th>삼겹살</th>\n",
       "      <th>자장면</th>\n",
       "      <th>삼계탕</th>\n",
       "      <th>칼국수</th>\n",
       "      <th>김밥</th>\n",
       "    </tr>\n",
       "  </thead>\n",
       "  <tbody>\n",
       "    <tr>\n",
       "      <th>0.25</th>\n",
       "      <td>8300.00</td>\n",
       "      <td>7792.25</td>\n",
       "      <td>6710.50</td>\n",
       "      <td>14036.00</td>\n",
       "      <td>5266.25</td>\n",
       "      <td>13169.25</td>\n",
       "      <td>6452.0</td>\n",
       "      <td>2411.0</td>\n",
       "    </tr>\n",
       "    <tr>\n",
       "      <th>0.50</th>\n",
       "      <td>8500.00</td>\n",
       "      <td>8072.00</td>\n",
       "      <td>7133.50</td>\n",
       "      <td>14881.50</td>\n",
       "      <td>5550.00</td>\n",
       "      <td>14148.50</td>\n",
       "      <td>7216.5</td>\n",
       "      <td>2569.0</td>\n",
       "    </tr>\n",
       "    <tr>\n",
       "      <th>0.75</th>\n",
       "      <td>8922.75</td>\n",
       "      <td>8787.50</td>\n",
       "      <td>7217.25</td>\n",
       "      <td>15538.75</td>\n",
       "      <td>5723.25</td>\n",
       "      <td>14308.25</td>\n",
       "      <td>7425.0</td>\n",
       "      <td>2733.5</td>\n",
       "    </tr>\n",
       "  </tbody>\n",
       "</table>\n",
       "</div>"
      ],
      "text/plain": [
       "           냉면      비빔밥     김치찌개       삼겹살      자장면       삼계탕     칼국수      김밥\n",
       "0.25  8300.00  7792.25  6710.50  14036.00  5266.25  13169.25  6452.0  2411.0\n",
       "0.50  8500.00  8072.00  7133.50  14881.50  5550.00  14148.50  7216.5  2569.0\n",
       "0.75  8922.75  8787.50  7217.25  15538.75  5723.25  14308.25  7425.0  2733.5"
      ]
     },
     "execution_count": 14,
     "metadata": {},
     "output_type": "execute_result"
    }
   ],
   "source": [
    "(df_foodcost.drop(columns='지역').quantile([0.25,0.5,0.75]))"
   ]
  },
  {
   "cell_type": "code",
   "execution_count": null,
   "id": "22a1ced6",
   "metadata": {},
   "outputs": [],
   "source": []
  }
 ],
 "metadata": {
  "kernelspec": {
   "display_name": "base",
   "language": "python",
   "name": "python3"
  },
  "language_info": {
   "codemirror_mode": {
    "name": "ipython",
    "version": 3
   },
   "file_extension": ".py",
   "mimetype": "text/x-python",
   "name": "python",
   "nbconvert_exporter": "python",
   "pygments_lexer": "ipython3",
   "version": "3.11.8"
  }
 },
 "nbformat": 4,
 "nbformat_minor": 5
}
