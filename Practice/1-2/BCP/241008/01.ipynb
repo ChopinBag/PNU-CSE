{
 "cells": [
  {
   "cell_type": "code",
   "execution_count": 2,
   "metadata": {},
   "outputs": [
    {
     "name": "stdout",
     "output_type": "stream",
     "text": [
      "...---...\n"
     ]
    }
   ],
   "source": [
    "morse_dict = { \"A\" : \".-\", \"B\" : \"-...\", \"C\" : \"-.-.\", \n",
    "              \"D\" : \"-..\", \"E\" : \".\", \"F\" : \"..-.\", \"G\" : \"--.\",\n",
    "              \"H\" : \"....\", \"I\" : \"..\", \"J\" : \".---\", \"K\" : \"-.-\",\n",
    "              \"L\" : \".-..\", \"M\" : \"--\", \"N\" : \"-.\", \"O\" : \"---\", \n",
    "              \"P\" : \".--.\", \"Q\" : \"--.-\", \"R\" : \".-.\", \"S\" : \"...\",\n",
    "              \"T\" : \"-\", \"U\" : \"..-\", \"V\" : \"...-\", \"W\" : \".--\", \n",
    "              \"X\" : \"-..-\", \"Y\" : \"-.--\", \"Z\" : \"--..\"} \n",
    "userInput = input()\n",
    "morse = \"\"\n",
    "for i in range(len(userInput)):\n",
    "    morse += morse_dict[userInput[i]]\n",
    "print(morse)"
   ]
  }
 ],
 "metadata": {
  "kernelspec": {
   "display_name": "Python 3",
   "language": "python",
   "name": "python3"
  },
  "language_info": {
   "codemirror_mode": {
    "name": "ipython",
    "version": 3
   },
   "file_extension": ".py",
   "mimetype": "text/x-python",
   "name": "python",
   "nbconvert_exporter": "python",
   "pygments_lexer": "ipython3",
   "version": "3.12.2"
  }
 },
 "nbformat": 4,
 "nbformat_minor": 2
}
