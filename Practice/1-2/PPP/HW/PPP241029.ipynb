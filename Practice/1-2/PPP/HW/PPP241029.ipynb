{
 "cells": [
  {
   "cell_type": "code",
   "execution_count": null,
   "metadata": {},
   "outputs": [
    {
     "name": "stdout",
     "output_type": "stream",
     "text": [
      "[1] Set the base KRW-USD exchange rate\n",
      "[2] Convert [KRW] to [USD]\n",
      "[3] Convert [USD] to [KRW]\n",
      "[0] Exit Program\n",
      "Enter your choice : "
     ]
    }
   ],
   "source": [
    "#include <stdio.h>\n",
    "void print_menu(){\n",
    "    char szmenu1[] =\"[1] Set the base KRW-USD exchange rate\";\n",
    "    char szmenu2[] =\"[2] Convert [KRW] to [USD]\";\n",
    "    char szmenu3[] =\"[3] Convert [USD] to [KRW]\";\n",
    "    char szmenu0[] =\"[0] Exit Program\";\n",
    "    char szchoice[]=\"Enter your choice : \";\n",
    "    printf(\"%s\\n%s\\n%s\\n%s\\n%s\",szmenu1,szmenu2,szmenu3,szmenu0,szchoice);\n",
    "    }\n",
    "\n",
    "int main(){\n",
    "    double in, out;\n",
    "    int nChoice;\n",
    "    int baseRate = 1000;\n",
    "    do {\n",
    "        print_menu();\n",
    "        scanf(\"%d\", &nChoice);\n",
    "        switch (nChoice){\n",
    "            case 1: printf(\"set the base rate :\");\n",
    "            scanf(\"%d\", &baseRate);\n",
    "            printf(\"\\n\");\n",
    "            break;\n",
    "\n",
    "            case 2: scanf(\"%lf\" ,&in);\n",
    "            out = in/baseRate;\n",
    "            printf(\"%lf\\n\",out);\n",
    "            break;\n",
    "\n",
    "            case 3: scanf(\"%lf\" ,&in);\n",
    "            out = in*baseRate;\n",
    "            printf(\"%lf\\n\",out);\n",
    "            break;\n",
    "\n",
    "            case 0: break;\n",
    "\n",
    "            default: printf(\"Wrong Choice!\\n\");\n",
    "        }\n",
    "        } while (1);\n",
    "        printf(\"Bye!\");\n",
    "        return 0;\n",
    "    \n",
    "}"
   ]
  }
 ],
 "metadata": {
  "kernelspec": {
   "display_name": "C",
   "language": "c",
   "name": "c"
  },
  "language_info": {
   "file_extension": ".c",
   "mimetype": "text/plain",
   "name": "c"
  }
 },
 "nbformat": 4,
 "nbformat_minor": 2
}
