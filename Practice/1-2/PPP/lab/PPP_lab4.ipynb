{
 "cells": [
  {
   "cell_type": "markdown",
   "metadata": {},
   "source": [
    "# Problem 1.\n",
    "Refer to the \"Numerical Baseball Game\" explained in pages 48 ~ 58 of the lecture material \"Functions and Modular Programming\".\n",
    "\n",
    "Complete the generate_target_number(void) based on approach 2 explained in page 52 of the lecture material. \n",
    "\n",
    "Approach 2: Randomly generate a number between 0 and 9, and specify it as the first digit. Again, randomly generate a number between 0 and 9, compare it with the first digit, and if it is different, assign it as the second digit, otherwise generate a new random number till it is different from the first digit.  The third digit is determined in the same manner.\n",
    "\n",
    "For the implementation of this function, use the given generate_a_digit() function.\n",
    "\n",
    "\n"
   ]
  },
  {
   "cell_type": "code",
   "execution_count": null,
   "metadata": {
    "vscode": {
     "languageId": "c"
    }
   },
   "outputs": [],
   "source": [
    "#include <stdio.h> \n",
    "#include <stdlib.h> \n",
    "#include <time.h>\n",
    "/**\n",
    "* @brief : generate and return a random digit in 0~9\n",
    "* @return : a digit in 0~9\n",
    "* @param\t : none\n",
    "*/\n",
    "int generate_a_digit(void) {\n",
    "\treturn (rand()%10);\n",
    "}\n",
    "\n",
    "/**\n",
    "* @brief : generate a 3-digits target integer for the puzzle\n",
    "* @return : return an integer with 3 different digits in 0~9\n",
    "* @param : none\n",
    "*/\n",
    "int generate_target_number_approach2(void) {\n",
    "\t// Implement here\n",
    "\t\n",
    "\treturn 123;\n",
    "}"
   ]
  },
  {
   "cell_type": "code",
   "execution_count": null,
   "metadata": {
    "vscode": {
     "languageId": "c"
    }
   },
   "outputs": [],
   "source": [
    "int generate_target_number_approach2(void) {\n",
    "    int digit1, digit2, digit3;\n",
    "    digit1 = generate_a_digit();\n",
    "    \n",
    "    // Generate second digit ensuring it's different from the first\n",
    "    do {\n",
    "        digit2 = generate_a_digit();\n",
    "    } while (digit2 == digit1);\n",
    "    \n",
    "    // Generate third digit ensuring it's different from the first and second\n",
    "    do {\n",
    "        digit3 = generate_a_digit();\n",
    "    } while (digit3 == digit1 || digit3 == digit2);\n",
    "    \n",
    "    return digit1 * 100 + digit2 * 10 + digit3;\n",
    "}"
   ]
  },
  {
   "cell_type": "markdown",
   "metadata": {},
   "source": [
    "# Problem 2.\n",
    "Complete the function get_match_result() for the numerical baseball game explained in page 55 of the lecture material \"07. Functions and Modular Programming\". \n",
    "\n",
    "This function compares the guessed number with the target and returns the match result for the numerical baseball game explained in page 48."
   ]
  },
  {
   "cell_type": "code",
   "execution_count": null,
   "metadata": {
    "vscode": {
     "languageId": "c"
    }
   },
   "outputs": [],
   "source": [
    "#include <stdio.h> \n",
    "/**\n",
    "* @brief : compare the guessed number with the target and return the match results\n",
    "* @return : return 2-digits number, 1st digit stands for the number of strikes and 2nd digit stands for the number of balls. For example 11 means 1 strike 1 ball\n",
    "* @param\t : \ttarget - 3-digits target integer\n",
    "\t\t\tguessed - 3-digits guessed integer\n",
    "*/\n",
    "int get_match_result(int target, int guessed) {\n",
    "\tint n_strike=0, n_ball=0;\n",
    "\t\n",
    "\t// Implement here\n",
    "\t\n",
    "\treturn (n_strike*10 + n_ball);\n",
    "}"
   ]
  },
  {
   "cell_type": "code",
   "execution_count": null,
   "metadata": {
    "vscode": {
     "languageId": "c"
    }
   },
   "outputs": [],
   "source": [
    "int get_match_result(int target, int guessed) {\n",
    "    int n_strike = 0, n_ball = 0;\n",
    "    int target_digits[3] = { target / 100, (target / 10) % 10, target % 10 };\n",
    "    int guessed_digits[3] = { guessed / 100, (guessed / 10) % 10, guessed % 10 };\n",
    "    \n",
    "    // Check for strikes\n",
    "    for (int i = 0; i < 3; i++) {\n",
    "        if (target_digits[i] == guessed_digits[i]) {\n",
    "            n_strike++;\n",
    "        }\n",
    "    }\n",
    "    \n",
    "    // Check for balls\n",
    "    for (int i = 0; i < 3; i++) {\n",
    "        for (int j = 0; j < 3; j++) {\n",
    "            if (i != j && target_digits[i] == guessed_digits[j]) {\n",
    "                n_ball++;\n",
    "            }\n",
    "        }\n",
    "    }\n",
    "    \n",
    "    return (n_strike * 10 + n_ball);\n",
    "}"
   ]
  },
  {
   "cell_type": "markdown",
   "metadata": {},
   "source": [
    "# Problem 3.\n",
    "Complete a numerical baseball game program by including the 2 functions, generate_target_number() and get_match_result(), you wrote in the previous problems.\n",
    "\n",
    "Execute the program and try to solve the puzzle. (The time limit is 120 seconds.) \n",
    "\n",
    "Your T.A will check your code and your execution result (you should show a case that you win) for scoring.\n",
    "\n",
    "(이전 문제에서 작성한 generate_target_number() 와 get_match_result()를 주어진 코드에 추가하여 숫자야구게임을 완성하라. 프로그램을 완성한 후 실행하고 퍼즐을 풀어보라. 시간 제한은 120초이다. 문제를 맞춘 경우 조교에게 채점을 요청하면 조교가 당신의 코드와 실행결과를 확인하고 점수를 부여할 것이다.)"
   ]
  },
  {
   "cell_type": "code",
   "execution_count": null,
   "metadata": {
    "vscode": {
     "languageId": "c"
    }
   },
   "outputs": [],
   "source": [
    "#include <stdio.h>\n",
    "#include <stdlib.h>\n",
    "#include <time.h>\n",
    "#define ATTEMPT_LIMIT\t9\n",
    "\n",
    "// Function Prototypes\n",
    "int generate_target_number(void);\n",
    "int guess_number(void);\n",
    "int get_match_result(int target, int guessed);\n",
    "void receive_match_result(int result, int guessed);\n",
    "\n",
    "int is_different_digits(int num);\n",
    "int generate_a_digit(void);\n",
    "\n",
    "// Implement generate_target_number()\n",
    "\n",
    "// Implement get_match_result()\n",
    "\n",
    "\n",
    "int main(void) {\n",
    "\tint n_attempt = 0;\n",
    "\tint target_num, guessed_num, match_result;\n",
    "\n",
    "\tsetvbuf(stdout,NULL,_IONBF, 0);\n",
    "\n",
    "\tsrand(time(0));\n",
    "\ttarget_num = generate_target_number();\n",
    "\tdo {\n",
    "\t\tprintf(\"Attempt [%d/%d] \",++n_attempt, ATTEMPT_LIMIT);\n",
    "\t\tguessed_num = guess_number();\n",
    "\t\tmatch_result = get_match_result(target_num, guessed_num);\n",
    "\t\treceive_match_result(match_result, guessed_num);\n",
    "\t} while (n_attempt <= ATTEMPT_LIMIT && match_result != 30);\n",
    "\n",
    "\tif (match_result == 30)\n",
    "\t\tprintf(\"Congratulation!!! You Win\\n\");\n",
    "\telse\n",
    "\t\tprintf(\"Nice Try!!! But You Lose, The target number is %d\\n\", target_num);\n",
    "\treturn 0;\n",
    "}\n",
    "\n",
    "/**\n",
    "* @brief : check digit duplication\n",
    "* @return : return true if all digits of the number are different, false otherwise.\n",
    "* @param\t : \tnum a 3-digits number to be checked for digit duplication.\n",
    "*/\n",
    "int is_different_digits(int num) {\n",
    "\tint digits[3];\n",
    "\tint is_different = 1;\n",
    "\n",
    "\tdigits[0] = num%10;\n",
    "\tdigits[1] = (num/10)%10;\n",
    "\tdigits[2] = (num/100)%10;\n",
    "\tif ((digits[0] == digits[1]) ||\n",
    "\t\t(digits[0] == digits[2]) ||\n",
    "\t\t(digits[1] == digits[2]) )\n",
    "\t\tis_different = 0;\n",
    "\n",
    "\treturn is_different;\n",
    "}\n",
    "\n",
    "/**\n",
    "* @brief : generate and return a random digit in 0~9\n",
    "* @return : a digit in 0~9\n",
    "* @param\t : none\n",
    "*/\n",
    "int generate_a_digit(void) {\n",
    "\treturn (rand()%10);\n",
    "}\n",
    "\n",
    "/**\n",
    "* @brief : get a guessed number from the Attacker\n",
    "* @return : return an integer with 3 different digits in 0~9\n",
    "* @param\t : none\n",
    "*/\n",
    "int guess_number(void) {\n",
    "\tint num;\n",
    "\twhile (1) {\n",
    "\t\tprintf(\"Enter your guess : \");\n",
    "\t\tscanf(\"%d\",&num);\n",
    "\t\tif (num < 1000 && is_different_digits(num)) break;\n",
    "\t\tprintf(\"Input Error !!! Wrong number format\\n\");\n",
    "\t}\n",
    "\treturn num;\n",
    "}\n",
    "\n",
    "/**\n",
    "* @brief : notify the match result of the guessed number to the Attacker\n",
    "* @return : none\n",
    "* @param\t : \tresult - 2-digits number for the match result, 1st digit stands for the number of strikes and 2nd digit stands for the number of balls.\n",
    "\t\t\tguessed - 3-digits guessed integer\n",
    "*/\n",
    "void receive_match_result(int result, int guessed) {\n",
    "\tint n_strike = result/10, n_ball = result%10;\n",
    "\tswitch (result) {\n",
    "\t\tcase 30 : printf(\"Congratulation !!!\\n\");\n",
    "\t\t\tbreak;\n",
    "\t\tcase 0 : printf(\"Oops !!!\\n\");\n",
    "\t\t\tbreak;\n",
    "\t\tdefault : printf(\"Nice try !!!\\n\");\n",
    "\t}\n",
    "\tprintf(\"Your guess %d is [%d] strikes and [%d] balls\\n\",\n",
    "\t\tguessed, n_strike, n_ball);\n",
    "}"
   ]
  },
  {
   "cell_type": "markdown",
   "metadata": {},
   "source": [
    "# Problem 4.\n",
    "Radiation therapy machines can operate in two modes: calibration and treatment. Administering radiation in calibration mode is unsafe and can result in severe harm to patients. Therefore, it is crucial to ensure that the machine is not in calibration mode during treatment.\n",
    "\n",
    "Your task:\n",
    "\n",
    "Implement a safeRadiation function that:\n",
    "Ensures the machine is in treatment mode before administering radiation.\n",
    "Verifies that the dose is within a safe range of 1 to 10 (inclusive).\n",
    "If either condition is not met, it should print an error message and prevent the radiation from being administered.\n",
    "\n",
    "\n",
    "Functions:\n",
    "\n",
    "void beginCalibration(): Sets the machine to calibration mode.\n",
    "void endCalibration(): Switches the machine back to treatment mode.\n",
    "void performRadiation(int dose): Administers radiation without checking the machine's mode (for internal use only).\n",
    "void safeRadiation(int dose): Ensures the machine is in treatment mode and that the dose is within safe limits before calling performRadiation to administer radiation.\n"
   ]
  },
  {
   "cell_type": "code",
   "execution_count": null,
   "metadata": {
    "vscode": {
     "languageId": "c"
    }
   },
   "outputs": [],
   "source": [
    "#include <stdio.h>\n",
    "#include <stdbool.h>\n",
    "\n",
    "bool isCalibrationMode = false;\n",
    "\n",
    "void beginCalibration() {\n",
    "    isCalibrationMode = true;\n",
    "}\n",
    "\n",
    "void endCalibration() {\n",
    "    isCalibrationMode = false;\n",
    "}\n",
    "\n",
    "void performRadiation(int dose) {\n",
    "    printf(\"Radiation performed with dose: %d\\n\", dose);\n",
    "}\n",
    "\n",
    "// implement your code\n",
    "\n",
    "int main() {\n",
    "    // A technician calibrated the machine but forgot to switch back to treatment mode.\n",
    "    beginCalibration();\n",
    "    int calibrationDose = 30;\n",
    "    performRadiation(calibrationDose);\n",
    "\t\n",
    "    // The safe range for treatment is (0, 10)\n",
    "    int patientDose = 15;\n",
    "    // This should trigger the error message, protecting the patient\n",
    "    safeRadiation(patientDose);  \n",
    "\n",
    "    // Switching back to treatment mode and testing again\n",
    "    endCalibration();\n",
    "\t\n",
    "    // This should successfully administer radiation\n",
    "    patientDose = 5;\n",
    "    safeRadiation(patientDose);\n",
    "\n",
    "    return 0;\n",
    "}"
   ]
  },
  {
   "cell_type": "code",
   "execution_count": null,
   "metadata": {
    "vscode": {
     "languageId": "c"
    }
   },
   "outputs": [],
   "source": [
    "void safeRadiation(int dose) {\n",
    "    if (isCalibrationMode) {\n",
    "        printf(\"Error: Machine is in calibration mode! Cannot administer radiation.\\n\");\n",
    "        return;\n",
    "    }\n",
    "    \n",
    "    if (dose < 1 || dose > 10) {\n",
    "        printf(\"Error: Dose out of safe range! Cannot administer radiation.\\n\");\n",
    "        return;\n",
    "    }\n",
    "    \n",
    "    performRadiation(dose);\n",
    "}"
   ]
  },
  {
   "cell_type": "markdown",
   "metadata": {},
   "source": [
    "# Problem 5.\n",
    "In 1949 the Indian mathematician D.R. Kaprekar discovered a class of numbers called self-numbers. For any positive integer n, define d(n) to be n plus the sum of the digits of n. (The d stands for Digitaddition, a term coined by Kaprekar.)\n",
    "\n",
    "For example, d(75) = 75 + 7 + 5 = 87. Given any positive integer n as a starting point, you can construct the infinite increasing sequence of integers n, d(n), d(d(n)), d(d(d(n))), ... .\n",
    "\n",
    "For example, if you start with 33, the next number is 33 + 3 + 3 = 39, the next is 39 + 3 + 9 = 51, the next is 51 + 5 + 1 = 57, and so you generate the sequence\n",
    "\n",
    "33, 39, 51, 57, 69, 84, 96, 111, 114, 120, 123, 129, 141, ...\n",
    "\n",
    "The number n is called a generator of d(n). In the sequence above, 33 is a generator of 39, 39 is a generator of 51, 51 is a generator of 57, and so on. Some numbers have more than one generator: for example, 101 has two generators, 91 and 100. A number with no generators is a self-number. There are 13 self-numbers less than 100: 1, 3, 5, 7, 9, 20, 31, 42, 53, 64, 75, 86, and 97.\n",
    "\n",
    "Write a program to output all positive self-numbers less than 10000 in increasing order, one per line.\n",
    "\n",
    "You can add new functions and variables.\n",
    "\n"
   ]
  },
  {
   "cell_type": "code",
   "execution_count": null,
   "metadata": {
    "vscode": {
     "languageId": "c"
    }
   },
   "outputs": [],
   "source": [
    "#include <stdio.h>\n",
    "#define MAX_NUMBER\t10000\n",
    "\n",
    "// Implement here\n",
    "\n",
    "int main(void) {\n",
    "\n",
    "\treturn 0;\n",
    "}"
   ]
  },
  {
   "cell_type": "code",
   "execution_count": null,
   "metadata": {
    "vscode": {
     "languageId": "c"
    }
   },
   "outputs": [],
   "source": [
    "#include <stdio.h>\n",
    "#define MAX_NUMBER 10000\n",
    "\n",
    "int d(int n) {\n",
    "    int sum = n;\n",
    "    while (n > 0) {\n",
    "        sum += n % 10;\n",
    "        n /= 10;\n",
    "    }\n",
    "    return sum;\n",
    "}\n",
    "\n",
    "int main(void) {\n",
    "    int isSelfNumber[MAX_NUMBER + 1] = {0};\n",
    "\n",
    "    for (int i = 1; i <= MAX_NUMBER; i++) {\n",
    "        int dn = d(i);\n",
    "        if (dn <= MAX_NUMBER) {\n",
    "            isSelfNumber[dn] = 1;\n",
    "        }\n",
    "    }\n",
    "\n",
    "    for (int i = 1; i <= MAX_NUMBER; i++) {\n",
    "        if (!isSelfNumber[i]) {\n",
    "            printf(\"%d\\n\", i);\n",
    "        }\n",
    "    }\n",
    "    return 0;\n",
    "}"
   ]
  }
 ],
 "metadata": {
  "language_info": {
   "name": "python"
  }
 },
 "nbformat": 4,
 "nbformat_minor": 2
}
