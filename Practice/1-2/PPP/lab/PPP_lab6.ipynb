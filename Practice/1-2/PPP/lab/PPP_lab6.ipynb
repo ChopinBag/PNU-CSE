{
 "cells": [
  {
   "cell_type": "markdown",
   "metadata": {},
   "source": [
    "\n",
    "# Problem 1.\n",
    "Complete get_kth_largest() in the given source code.\n",
    "\n",
    "int get_kth_largest(int *nums, int k ) : Finds the k-th largest element in an integer array pointed to by nums. All values of the array are non-negative except the last one (END_MARK : -1) to indicate the end of the array. \n",
    "\n",
    "Parameters\n",
    "nums - pointer to the END_MARK (-1) terminated integer array to be searched for. \n",
    "k - the order that we want to find. \n",
    "Return value\n",
    "Returns the value of the k-th largest element\n",
    "If k is smaller than 1 or larger than the number of elements in the array, return -1;\n",
    "You can add new functions and variables. \n",
    "\n"
   ]
  },
  {
   "cell_type": "code",
   "execution_count": null,
   "metadata": {
    "vscode": {
     "languageId": "c"
    }
   },
   "outputs": [],
   "source": [
    "#include <stdio.h>\n",
    "#include <stdlib.h>\n",
    "\n",
    "#define END_MARK\t-1\n",
    "#define MAX_SIZE\t10000\n",
    "\n",
    "int get_kth_largest(int *nums, int k) {\n",
    "\n",
    "\treturn -1;\n",
    "}"
   ]
  },
  {
   "cell_type": "code",
   "execution_count": null,
   "metadata": {
    "vscode": {
     "languageId": "c"
    }
   },
   "outputs": [],
   "source": [
    "\"\"\"\n",
    "완성된 코드\n",
    "\"\"\"\n",
    "int compare(const void*a, const void *b) {\n",
    "    return *(int*)b - *(int*)a;\n",
    "}\n",
    "\n",
    "int get_kth_largest(int *nums, int k) {\n",
    "    int n=0;\n",
    "    int * np= nums;\n",
    "    while(*np != END_MARK) {\n",
    "        n++;\n",
    "        np++;\n",
    "    }\n",
    "    if (k<1 || k>n) {\n",
    "        return -1;\n",
    "    }\n",
    "    qsort(nums, n, sizeof(int),compare);\n",
    "\n",
    "    return nums[k-1];\n",
    "}"
   ]
  },
  {
   "cell_type": "markdown",
   "metadata": {},
   "source": [
    "# Problem 2.\n",
    "Complete the print_local_time_after_kdays(time_t t, int k) printing out the local time (from the machine's perspective) after \"k\" days of the given time \"t\" using the localtime() library function.\n",
    "\n",
    "Note that the result of the localtime() may differ from what you expect. The localtime of the Goorm's VM may be different from ours. \n",
    "\n",
    "(주어진 시간 t에서 k 일 이후의 시간을 출력하는 함수 print_local_time_after_kdays(time_t, int k)를 표준 라이브러리 함수 localtime()을 이용하여 완성하라. localtime은 프로그램이 동작하는 기계 기준이다. 단 구름의 가상기계(VM)의 localtime이 우리와 다를 수 있음에 유의하라. 출력 형식은 아래와 같다)\n",
    "\n",
    "Output format example:\n",
    "\n",
    "2022/12/1, 01:06:32, Thursday"
   ]
  },
  {
   "cell_type": "code",
   "execution_count": null,
   "metadata": {
    "vscode": {
     "languageId": "c"
    }
   },
   "outputs": [],
   "source": [
    "#include <stdio.h>\n",
    "#include <time.h>\n",
    "\n",
    "void print_local_time_after_kdays(time_t t, int k) {\n",
    "\t\n",
    "\n",
    "\treturn;\n",
    "}\n",
    "\n",
    "int main(void) {\n",
    "\tint k=0;\n",
    "\ttime_t now = 1669856792; // 2022/12/01 01:06:32\n",
    "\t\n",
    "\tscanf(\"%d\", &k);\n",
    "\t\n",
    "\tprint_local_time_after_kdays(now, k);\n",
    "\n",
    "\treturn 0;\n",
    "}"
   ]
  },
  {
   "cell_type": "code",
   "execution_count": null,
   "metadata": {
    "vscode": {
     "languageId": "c"
    }
   },
   "outputs": [],
   "source": [
    "\"\"\"\n",
    "완성된 코드\n",
    "\"\"\"\n",
    "void print_local_time_after_kdays(time_t t, int k) {\n",
    "    time_t result_time = t + (k * 24 * 60 * 60);\n",
    "    struct tm *lt;\n",
    "    lt = localtime(&result_time);\n",
    "    printf(\"%d/%d/%d %02d:%02d:%02d\\n\"\n",
    "        ,lt->tm_year + 1900\n",
    "        ,lt->tm_mon + 1\n",
    "        ,lt->tm_mday\n",
    "        ,lt->tm_hour\n",
    "        ,lt->tm_min\n",
    "        ,lt->tm_sec);\n",
    "    return;\n",
    "}"
   ]
  },
  {
   "cell_type": "markdown",
   "metadata": {},
   "source": [
    "# Problem 3.\n",
    "Complete the stud_bubble_sort(STUD *pnucse) sorting an array of STUD type whose address is given as pnucse in the decreasing order of points using the bubble sort algorithm. \n",
    "\n",
    "You are not allowed to add a new function.\n",
    "\n",
    "You can use the following functions whose source codes are hidden on purpose.\n",
    "\n",
    "void stud_print(STUD *ps);\n",
    "\n",
    "void stud_swap(STUD *a, STUD *b);\n",
    "\n",
    "STUD * stud_get_last(STUD *ps_array);\n",
    "\n",
    "int stud_compare_points(STUD *ps1, STUD *ps2);\n"
   ]
  },
  {
   "cell_type": "code",
   "execution_count": null,
   "metadata": {
    "vscode": {
     "languageId": "c"
    }
   },
   "outputs": [],
   "source": [
    "#include <stdio.h>\n",
    "typedef struct student {\n",
    "\tint id;\n",
    "\tchar *pname;\n",
    "\tdouble points;\n",
    "} STUD;\n",
    "\n",
    "void stud_print(STUD *ps);\n",
    "void stud_swap(STUD *a, STUD *b);\n",
    "STUD * stud_get_last(STUD *ps_array);\n",
    "int stud_compare_points(STUD *ps1, STUD *ps2);\n",
    "\n",
    "void stud_bubble_sort(STUD * pnucse) {\n",
    "\n",
    "\treturn;\n",
    "}\n",
    "\n",
    "\n",
    "int main(void) {\n",
    "\tSTUD pnucse[] = { {1, \"Choi\", 9.9}, {2, \"Park\", 0.1},\n",
    "\t\t{3, \"Kim\", 5.0 }, {4, \"Lee\", 3.0 }, {5, \"Moon\", 9.5 },\n",
    "\t\t{6, \"Kang\", 7.0 }, {7, \"Jeon\", 0.9 }, {-1, NULL, 0 } };\n",
    "\t\t\n",
    "\tSTUD * ps_cur = pnucse;\n",
    "\tint test_id = 0;\n",
    "\tscanf(\"%d\",&test_id);\n",
    "\tif (test_id) set_values_of_pnucse(pnucse, test_id); \n",
    "\t\n",
    "\tstud_bubble_sort(pnucse);\n",
    "\t\n",
    "\twhile (ps_cur->id > 0)\n",
    "\t\tstud_print(ps_cur++);\t\n",
    "\n",
    "\treturn 0;\n",
    "}"
   ]
  },
  {
   "cell_type": "code",
   "execution_count": null,
   "metadata": {
    "vscode": {
     "languageId": "c"
    }
   },
   "outputs": [],
   "source": [
    "\"\"\"\n",
    "완성된 코드\n",
    "\"\"\"\n",
    "void stud_bubble_sort(STUD * pnucse) {\n",
    "    STUD *last = stud_get_last(pnucse);\n",
    "    int n = last - pnucse;\n",
    "    for(int i=0; i < n; i++) {\n",
    "        for(int j=0; j < n - 1 - i; j++) {\n",
    "            if(pnucse[j].points < pnucse[j+1].points) {\n",
    "                stud_swap(&pnucse[j], &pnucse[j+1]);\n",
    "            }\n",
    "        }\n",
    "    }\n",
    "}"
   ]
  },
  {
   "cell_type": "markdown",
   "metadata": {},
   "source": [
    "# Problem 4.\n",
    "Write a C program to detect scheduling conflicts between two time periods. The program will:\n",
    "\n",
    "Parse time and date inputs.\n",
    "Determine if two periods overlap.\n",
    "\n",
    "\n",
    "1. Parsing Date and Time\n",
    "\n",
    "Implement the function struct tm parse_datetime(char* datetime_str):\n",
    "\n",
    "Input: A string in the format \"YYYY-MM-DD HH:MM\".\n",
    "Output: A struct tm object populated with the corresponding date and time values.\n",
    "\n",
    "2. Detecting Overlaps\n",
    "\n",
    "Implement the function int detect_schedule_conflict(struct tm *start1, struct tm *end1, struct tm *start2, struct tm *end2):\n",
    "\n",
    "Input: The start and end times of two time periods (struct tm pointers).\n",
    "Output:  true if the two periods overlap."
   ]
  },
  {
   "cell_type": "code",
   "execution_count": null,
   "metadata": {
    "vscode": {
     "languageId": "c"
    }
   },
   "outputs": [],
   "source": [
    "#include <stdio.h>\n",
    "#include <string.h>\n",
    "#include <time.h>\n",
    "\n",
    "struct tm parse_datetime(char* datetime_str) {\n",
    "\t// Implement your code\n",
    "}\n",
    "\n",
    "int detect_schedule_conflict(struct tm *start1, struct tm *end1, struct tm *start2, struct tm *end2) {\n",
    "\t// Implement your code\n",
    "\t\n",
    "}\n",
    "\n",
    "int main() {\n",
    "    char start1[20], end1[20], start2[20], end2[20];\n",
    "\n",
    "    //printf(\"Enter the first time period (start and end) in the format YYYY-MM-DD HH:MM:\\n\");\n",
    "    //printf(\"Start 1: \");\n",
    "    fgets(start1, sizeof(start1), stdin);\n",
    "    start1[strlen(start1) - 1] = '\\0';\n",
    "    //printf(\"End 1: \");\n",
    "    fgets(end1, sizeof(end1), stdin);\n",
    "    end1[strlen(end1) - 1] = '\\0';\n",
    "\n",
    "    //printf(\"Enter the second time period (start and end) in the format YYYY-MM-DD HH:MM:\\n\");\n",
    "    //printf(\"Start 2: \");\n",
    "    fgets(start2, sizeof(start2), stdin);\n",
    "    start2[strlen(start2) - 1] = '\\0';\n",
    "    //printf(\"End 2: \");\n",
    "    fgets(end2, sizeof(end2), stdin);\n",
    "    end2[strlen(end2) - 1] = '\\0';\n",
    "\n",
    "    struct tm t_start1 = parse_datetime(start1);\n",
    "    struct tm t_end1 = parse_datetime(end1);\n",
    "    struct tm t_start2 = parse_datetime(start2);\n",
    "    struct tm t_end2 = parse_datetime(end2);\n",
    "\n",
    "    if (detect_schedule_conflict(&t_start1, &t_end1, &t_start2, &t_end2)) {\n",
    "        printf(\"Schedule conflict detected!\\n\");\n",
    "    } else {\n",
    "        printf(\"No schedule conflict.\\n\");\n",
    "    }\n",
    "\n",
    "    return 0;\n",
    "}"
   ]
  },
  {
   "cell_type": "code",
   "execution_count": null,
   "metadata": {
    "vscode": {
     "languageId": "c"
    }
   },
   "outputs": [],
   "source": [
    "\"\"\"\n",
    "완성된 코드\n",
    "\"\"\"\n",
    "struct tm parse_datetime(char* datetime_str) {\n",
    "    struct tm result = {0};\n",
    "    sscanf(datetime_str, \"%d-%d-%d %d:%d:%d\"\n",
    "        ,&result.tm_year\n",
    "        ,&result.tm_mon\n",
    "        ,&result.tm_mday\n",
    "        ,&result.tm_hour\n",
    "        ,&result.tm_min\n",
    "        ,&result.tm_sec);\n",
    "    result.tm_year -= 1900;\n",
    "    result.tm_mon -= 1;\n",
    "\n",
    "    return result;\n",
    "}\n",
    "\n",
    "int detect_schedule_conflict(struct tm *start1, struct tm *end1, struct tm *start2, struct tm *end2) {\n",
    "    time_t st1= mktime(start1), ed1 = mktime(end1), st2 = mktime(start2), ed2 = mktime(end2);\n",
    "    if (st1 < st2 && ed1 > st2) {\n",
    "        return 1;\n",
    "    }else if(st1 > st2 && ed2 > st1) {\n",
    "        return 1;\n",
    "    }else {\n",
    "        return 0;\n",
    "    }\n",
    "}"
   ]
  }
 ],
 "metadata": {
  "language_info": {
   "name": "python"
  }
 },
 "nbformat": 4,
 "nbformat_minor": 2
}
