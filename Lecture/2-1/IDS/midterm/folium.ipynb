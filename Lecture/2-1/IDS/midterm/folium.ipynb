{
 "cells": [
  {
   "cell_type": "code",
   "execution_count": 25,
   "id": "83b6eae4",
   "metadata": {},
   "outputs": [],
   "source": [
    "import folium\n",
    "import numpy as np\n",
    "import pandas as pd\n",
    "from scipy import stats\n",
    "import matplotlib.pyplot as plt\n",
    "import seaborn as sns"
   ]
  },
  {
   "cell_type": "code",
   "execution_count": 26,
   "id": "69ca5ec5",
   "metadata": {},
   "outputs": [],
   "source": [
    "addr = []\n",
    "CB = pd.read_excel('../assets/CoffeeBean.xlsx')\n"
   ]
  },
  {
   "cell_type": "code",
   "execution_count": 27,
   "id": "aabf1266",
   "metadata": {},
   "outputs": [],
   "source": [
    "for address in CB.address:\n",
    "    addr.append(str(address).split())\n",
    "addr2 = []\n",
    "for i in range(len(addr)):    \n",
    "    if addr[i][0] == \"서울\": addr[i][0] = \"서울특별시\"\n",
    "    elif addr[i][0] == \"서울시\": addr[i][0] = \"서울특별시\"\n",
    "    elif addr[i][0] == \"부산시\": addr[i][0] = \"부산광역시\"\n",
    "    elif addr[i][0] == \"인천\": addr[i][0] = \"인천광역시\"\n",
    "    elif addr[i][0] == \"광주\": addr[i][0] = \"광주광역시\"\n",
    "    elif addr[i][0] == \"대전시\": addr[i][0] = \"대전광역시\"\n",
    "    elif addr[i][0] == \"울산시\": addr[i][0] = \"울산광역시\"\n",
    "    elif addr[i][0] == \"세종시\": addr[i][0] = \"세종특별자치시\"\n",
    "    elif addr[i][0] == \"경기\": addr[i][0] = \"경기도\"\n",
    "    elif addr[i][0] == \"충북\": addr[i][0] = \"충청북도\"\n",
    "    elif addr[i][0] == \"충남\": addr[i][0] = \"충청남도\"\n",
    "    elif addr[i][0] == \"전북\": addr[i][0] = \"전라북도\"\n",
    "    elif addr[i][0] == \"전남\": addr[i][0] = \"전라남도\"\n",
    "    elif addr[i][0] == \"경북\": addr[i][0] = \"경상북도\"\n",
    "    elif addr[i][0] == \"경남\": addr[i][0] = \"경상남도\"\n",
    "    elif addr[i][0] == \"제주\": addr[i][0] = \"제주특별자치도\"\n",
    "    elif addr[i][0] == \"제주도\": addr[i][0] = \"제주특별자치도\"\n",
    "    elif addr[i][0] == \"제주시\": addr[i][0] = \"제주특별자치도\"\n",
    "    addr2.append(' '.join(addr[i]))"
   ]
  },
  {
   "cell_type": "code",
   "execution_count": 28,
   "id": "43e924ab",
   "metadata": {},
   "outputs": [
    {
     "data": {
      "text/html": [
       "<div>\n",
       "<style scoped>\n",
       "    .dataframe tbody tr th:only-of-type {\n",
       "        vertical-align: middle;\n",
       "    }\n",
       "\n",
       "    .dataframe tbody tr th {\n",
       "        vertical-align: top;\n",
       "    }\n",
       "\n",
       "    .dataframe thead th {\n",
       "        text-align: right;\n",
       "    }\n",
       "</style>\n",
       "<table border=\"1\" class=\"dataframe\">\n",
       "  <thead>\n",
       "    <tr style=\"text-align: right;\">\n",
       "      <th></th>\n",
       "      <th>Unnamed: 0</th>\n",
       "      <th>store</th>\n",
       "      <th>address</th>\n",
       "      <th>phone</th>\n",
       "      <th>address2</th>\n",
       "    </tr>\n",
       "  </thead>\n",
       "  <tbody>\n",
       "    <tr>\n",
       "      <th>0</th>\n",
       "      <td>0</td>\n",
       "      <td>차병원점</td>\n",
       "      <td>서울시 강남구 논현로 566 강남차병원1층</td>\n",
       "      <td>02-538-7615</td>\n",
       "      <td>서울특별시 강남구 논현로 566 강남차병원1층</td>\n",
       "    </tr>\n",
       "    <tr>\n",
       "      <th>1</th>\n",
       "      <td>1</td>\n",
       "      <td>강남대로점</td>\n",
       "      <td>서울시 서초구 강남대로 369 1층</td>\n",
       "      <td>02-588-5778</td>\n",
       "      <td>서울특별시 서초구 강남대로 369 1층</td>\n",
       "    </tr>\n",
       "    <tr>\n",
       "      <th>2</th>\n",
       "      <td>2</td>\n",
       "      <td>청담에스점</td>\n",
       "      <td>서울시 강남구 압구정로 461 네이처포엠빌딩B108,109호</td>\n",
       "      <td>02-548-6052</td>\n",
       "      <td>서울특별시 강남구 압구정로 461 네이처포엠빌딩B108,109호</td>\n",
       "    </tr>\n",
       "    <tr>\n",
       "      <th>3</th>\n",
       "      <td>3</td>\n",
       "      <td>신사점</td>\n",
       "      <td>서울시 강남구 도산대로 126</td>\n",
       "      <td>02-548-2741</td>\n",
       "      <td>서울특별시 강남구 도산대로 126</td>\n",
       "    </tr>\n",
       "    <tr>\n",
       "      <th>4</th>\n",
       "      <td>4</td>\n",
       "      <td>역삼점</td>\n",
       "      <td>서울시 강남구 논현로 512  지상1,2층</td>\n",
       "      <td>02-569-8051</td>\n",
       "      <td>서울특별시 강남구 논현로 512 지상1,2층</td>\n",
       "    </tr>\n",
       "  </tbody>\n",
       "</table>\n",
       "</div>"
      ],
      "text/plain": [
       "   Unnamed: 0  store                              address        phone  \\\n",
       "0           0   차병원점              서울시 강남구 논현로 566 강남차병원1층  02-538-7615   \n",
       "1           1  강남대로점                  서울시 서초구 강남대로 369 1층  02-588-5778   \n",
       "2           2  청담에스점  서울시 강남구 압구정로 461 네이처포엠빌딩B108,109호    02-548-6052   \n",
       "3           3    신사점                     서울시 강남구 도산대로 126  02-548-2741   \n",
       "4           4    역삼점            서울시 강남구 논현로 512  지상1,2층    02-569-8051   \n",
       "\n",
       "                              address2  \n",
       "0            서울특별시 강남구 논현로 566 강남차병원1층  \n",
       "1                서울특별시 서초구 강남대로 369 1층  \n",
       "2  서울특별시 강남구 압구정로 461 네이처포엠빌딩B108,109호  \n",
       "3                   서울특별시 강남구 도산대로 126  \n",
       "4             서울특별시 강남구 논현로 512 지상1,2층  "
      ]
     },
     "execution_count": 28,
     "metadata": {},
     "output_type": "execute_result"
    }
   ],
   "source": [
    "addr2 = pd.DataFrame(addr2, columns=['address2'])\n",
    "CB2 = pd.concat([CB, addr2], axis=1)\n",
    "CB2.head()"
   ]
  },
  {
   "cell_type": "code",
   "execution_count": 30,
   "id": "114dd799",
   "metadata": {},
   "outputs": [],
   "source": [
    "map_osm = folium.Map(location = [35.2387072,129.0829824],zoom_start=16)\n",
    "map_osm.save('./assets/map.html')"
   ]
  },
  {
   "cell_type": "code",
   "execution_count": null,
   "id": "d131c661",
   "metadata": {},
   "outputs": [],
   "source": []
  }
 ],
 "metadata": {
  "kernelspec": {
   "display_name": "base",
   "language": "python",
   "name": "python3"
  },
  "language_info": {
   "codemirror_mode": {
    "name": "ipython",
    "version": 3
   },
   "file_extension": ".py",
   "mimetype": "text/x-python",
   "name": "python",
   "nbconvert_exporter": "python",
   "pygments_lexer": "ipython3",
   "version": "3.11.8"
  }
 },
 "nbformat": 4,
 "nbformat_minor": 5
}
