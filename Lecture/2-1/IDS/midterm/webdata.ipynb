{
 "cells": [
  {
   "cell_type": "code",
   "execution_count": 2,
   "id": "e2ba18e1",
   "metadata": {},
   "outputs": [],
   "source": [
    "import pandas as pd\n",
    "url = 'https://sports.news.naver.com/kbaseball/record/index?category=kbo&year=2025'\n",
    "kbo_tb = pd.read_html(url)"
   ]
  },
  {
   "cell_type": "code",
   "execution_count": null,
   "id": "4eb68ea5",
   "metadata": {},
   "outputs": [
    {
     "name": "stdout",
     "output_type": "stream",
     "text": [
      "표의 수 :6\n",
      "자료형:<class 'list'>\n",
      "0    선수 페이지  1  위즈덤  KIA  8  2  노시환  한화  6  3  디아즈 ...\n",
      "Name: 홈런 순위, dtype: object\n"
     ]
    }
   ],
   "source": [
    "print(f\"표의 수 :{len(kbo_tb)}\\n자료형:{type(kbo_tb)}\")\n",
    "print(kbo_tb[2]['타율 순위'])"
   ]
  },
  {
   "cell_type": "code",
   "execution_count": null,
   "id": "4d66127d",
   "metadata": {},
   "outputs": [
    {
     "name": "stdout",
     "output_type": "stream",
     "text": [
      "|순위|팀|경기수|승|패|무|승률|게임차|연속|출루율|장타율|최근 10경기|year\n",
      "0|1|삼성|133|79|50|4|0.612|0.0|1승|0.343|0.376|6승-3패-1무|2011\n",
      "8|1|KIA|144|87|56|1|0.608|0.0|2승|0.37|0.469|6승-4패-0무|2017\n",
      "18|1|LG|21|17|4|0|0.81|0.0|1승|0.378|0.425|7승-3패-0무|2025\n"
     ]
    },
    {
     "data": {
      "text/html": [
       "<div>\n",
       "<style scoped>\n",
       "    .dataframe tbody tr th:only-of-type {\n",
       "        vertical-align: middle;\n",
       "    }\n",
       "\n",
       "    .dataframe tbody tr th {\n",
       "        vertical-align: top;\n",
       "    }\n",
       "\n",
       "    .dataframe thead th {\n",
       "        text-align: right;\n",
       "    }\n",
       "</style>\n",
       "<table border=\"1\" class=\"dataframe\">\n",
       "  <thead>\n",
       "    <tr style=\"text-align: right;\">\n",
       "      <th></th>\n",
       "      <th>순위</th>\n",
       "      <th>승</th>\n",
       "      <th>패</th>\n",
       "      <th>무</th>\n",
       "      <th>승률</th>\n",
       "      <th>year</th>\n",
       "    </tr>\n",
       "    <tr>\n",
       "      <th>팀</th>\n",
       "      <th></th>\n",
       "      <th></th>\n",
       "      <th></th>\n",
       "      <th></th>\n",
       "      <th></th>\n",
       "      <th></th>\n",
       "    </tr>\n",
       "  </thead>\n",
       "  <tbody>\n",
       "    <tr>\n",
       "      <th>삼성</th>\n",
       "      <td>1</td>\n",
       "      <td>79</td>\n",
       "      <td>50</td>\n",
       "      <td>4</td>\n",
       "      <td>0.612</td>\n",
       "      <td>2011</td>\n",
       "    </tr>\n",
       "    <tr>\n",
       "      <th>KIA</th>\n",
       "      <td>1</td>\n",
       "      <td>87</td>\n",
       "      <td>56</td>\n",
       "      <td>1</td>\n",
       "      <td>0.608</td>\n",
       "      <td>2017</td>\n",
       "    </tr>\n",
       "    <tr>\n",
       "      <th>LG</th>\n",
       "      <td>1</td>\n",
       "      <td>17</td>\n",
       "      <td>4</td>\n",
       "      <td>0</td>\n",
       "      <td>0.810</td>\n",
       "      <td>2025</td>\n",
       "    </tr>\n",
       "  </tbody>\n",
       "</table>\n",
       "</div>"
      ],
      "text/plain": [
       "     순위   승   패  무     승률  year\n",
       "팀                              \n",
       "삼성    1  79  50  4  0.612  2011\n",
       "KIA   1  87  56  1  0.608  2017\n",
       "LG    1  17   4  0  0.810  2025"
      ]
     },
     "execution_count": 33,
     "metadata": {},
     "output_type": "execute_result"
    }
   ],
   "source": [
    "url_offset = 'https://sports.news.naver.com/kbaseball/record/index?category=kbo&year='\n",
    "years = [2011,2017,2025] # 롯데가 그나마 잘하던 해\n",
    "df_bb = pd.DataFrame()\n",
    "\n",
    "for y in years:\n",
    "    kbo_df = pd.read_html(url_offset+str(y))[0]\n",
    "    kbo_df['year'] = y\n",
    "    df_bb = pd.concat([df_bb,kbo_df], ignore_index=True)\n",
    "df_bb= df_bb[df_bb['순위'] == 1]\n",
    "\n",
    "import sys\n",
    "df_bb.to_csv(sys.stdout, sep='|')\n",
    "\n",
    "\n",
    "contents_col = ['순위', '팀', '승', '패', '무', '승률', 'year']\n",
    "winner_df = df_bb[contents_col][df_bb['순위'] == 1].set_index('팀')\n",
    "\n",
    "winner_df"
   ]
  },
  {
   "cell_type": "code",
   "execution_count": null,
   "id": "3c25dda2",
   "metadata": {},
   "outputs": [
    {
     "name": "stdout",
     "output_type": "stream",
     "text": [
      "['0', '1', '삼성', '133', '79', '50', '4', '0.612', '0.0', '1승', '0.343', '0.376', '6승-3패-1무', '2011']\n",
      "['8', '1', 'KIA', '144', '87', '56', '1', '0.608', '0.0', '2승', '0.37', '0.469', '6승-4패-0무', '2017']\n",
      "['18', '1', 'LG', '21', '17', '4', '0', '0.81', '0.0', '1승', '0.378', '0.425', '7승-3패-0무', '2025']\n"
     ]
    }
   ],
   "source": [
    "import csv\n",
    "\n",
    "f = open('out.csv')\n",
    "header = next(data)\n",
    "for row in data:\n",
    "    print(row)\n",
    "f.close()"
   ]
  }
 ],
 "metadata": {
  "kernelspec": {
   "display_name": "base",
   "language": "python",
   "name": "python3"
  },
  "language_info": {
   "codemirror_mode": {
    "name": "ipython",
    "version": 3
   },
   "file_extension": ".py",
   "mimetype": "text/x-python",
   "name": "python",
   "nbconvert_exporter": "python",
   "pygments_lexer": "ipython3",
   "version": "3.11.8"
  }
 },
 "nbformat": 4,
 "nbformat_minor": 5
}
