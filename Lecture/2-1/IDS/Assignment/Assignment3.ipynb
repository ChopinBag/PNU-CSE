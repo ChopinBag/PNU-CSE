{
 "cells": [
  {
   "cell_type": "markdown",
   "id": "651b689f",
   "metadata": {},
   "source": [
    "# 과제3. 로지스틱 회귀를 통한 분류문제\n",
    "- 데이터는 총 30개의 속성과 malignant(악성), benign(양성) 의 두가지 타겟값을 가지고 있다\n",
    "\n",
    "- sklearn을 활용하여 악성, 양성 분류모델 분석 진행하시오 (logistic regression)\n",
    "\n",
    "- 성능지표 confusion_matrix, accuray, precision, recall, f1-score를 통해 결과를 분석하시오"
   ]
  },
  {
   "cell_type": "markdown",
   "id": "7e03a8db",
   "metadata": {},
   "source": [
    "### 202455376 임승우"
   ]
  },
  {
   "cell_type": "code",
   "execution_count": 14,
   "id": "df379047",
   "metadata": {},
   "outputs": [
    {
     "name": "stdout",
     "output_type": "stream",
     "text": [
      "Confusion Matrix:\n",
      " [[70  1]\n",
      " [ 2 41]]\n",
      "Accuracy: 0.9736842105263158\n",
      "Precision: 0.9761904761904762\n",
      "Recall: 0.9534883720930233\n",
      "F1-score: 0.9647058823529412\n"
     ]
    }
   ],
   "source": [
    "import pandas as pd\n",
    "from sklearn.model_selection import train_test_split\n",
    "from sklearn.preprocessing import StandardScaler\n",
    "from sklearn.linear_model import LogisticRegression\n",
    "from sklearn.metrics import confusion_matrix, accuracy_score, precision_score, recall_score, f1_score\n",
    "\n",
    "\n",
    "data = pd.read_csv('./Breast_Cancer.csv')\n",
    "\n",
    "\n",
    "# 불필요한 컬럼 제거\n",
    "if 'id' in data.columns:\n",
    "    data = data.drop(['id'], axis=1)\n",
    "if 'Unnamed: 32' in data.columns:\n",
    "    data = data.drop(['Unnamed: 32'], axis=1)\n",
    "\n",
    "# 타겟 변수 변환: M(악성) → 1, B(양성) → 0\n",
    "data['diagnosis'] = data['diagnosis'].map({'M': 1, 'B': 0})\n",
    "\n",
    "X = data.drop('diagnosis', axis=1)\n",
    "y = data['diagnosis']\n",
    "\n",
    "X_train, X_test, y_train, y_test = train_test_split(X, y, test_size=0.2, random_state=42)\n",
    "\n",
    "scaler = StandardScaler()\n",
    "X_train_scaled = scaler.fit_transform(X_train)\n",
    "X_test_scaled = scaler.transform(X_test)\n",
    "\n",
    "model = LogisticRegression(max_iter=10000)\n",
    "model.fit(X_train_scaled, y_train)\n",
    "\n",
    "y_pred = model.predict(X_test_scaled)\n",
    "\n",
    "conf_matrix = confusion_matrix(y_test, y_pred)\n",
    "accuracy = accuracy_score(y_test, y_pred)\n",
    "precision = precision_score(y_test, y_pred)\n",
    "recall = recall_score(y_test, y_pred)\n",
    "f1 = f1_score(y_test, y_pred)\n",
    "\n",
    "# 결과\n",
    "print(\"Confusion Matrix:\\n\", conf_matrix)\n",
    "print(\"Accuracy:\", accuracy)\n",
    "print(\"Precision:\", precision)\n",
    "print(\"Recall:\", recall)\n",
    "print(\"F1-score:\", f1)\n"
   ]
  }
 ],
 "metadata": {
  "kernelspec": {
   "display_name": ".venv",
   "language": "python",
   "name": "python3"
  },
  "language_info": {
   "codemirror_mode": {
    "name": "ipython",
    "version": 3
   },
   "file_extension": ".py",
   "mimetype": "text/x-python",
   "name": "python",
   "nbconvert_exporter": "python",
   "pygments_lexer": "ipython3",
   "version": "3.13.2"
  }
 },
 "nbformat": 4,
 "nbformat_minor": 5
}
