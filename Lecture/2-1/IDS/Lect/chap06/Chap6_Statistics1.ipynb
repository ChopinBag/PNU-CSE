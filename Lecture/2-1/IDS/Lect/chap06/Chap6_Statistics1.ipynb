{
 "cells": [
  {
   "cell_type": "code",
   "execution_count": 1,
   "id": "initial_id",
   "metadata": {
    "ExecuteTime": {
     "end_time": "2025-04-07T07:21:57.768990Z",
     "start_time": "2025-04-07T07:21:57.766475Z"
    },
    "collapsed": true
   },
   "outputs": [],
   "source": [
    "import numpy as np\n",
    "import matplotlib.pyplot as plt\n",
    "import pandas as pd\n",
    "import seaborn as sns\n",
    "import scipy.stats as stats"
   ]
  },
  {
   "cell_type": "markdown",
   "id": "53c214929b7e99f9",
   "metadata": {},
   "source": [
    "### 대푯값 계산"
   ]
  },
  {
   "cell_type": "code",
   "execution_count": 16,
   "id": "c068121b50ddd559",
   "metadata": {
    "ExecuteTime": {
     "end_time": "2025-04-07T08:11:45.980163Z",
     "start_time": "2025-04-07T08:11:45.432710Z"
    }
   },
   "outputs": [
    {
     "data": {
      "text/html": [
       "<div>\n",
       "<style scoped>\n",
       "    .dataframe tbody tr th:only-of-type {\n",
       "        vertical-align: middle;\n",
       "    }\n",
       "\n",
       "    .dataframe tbody tr th {\n",
       "        vertical-align: top;\n",
       "    }\n",
       "\n",
       "    .dataframe thead th {\n",
       "        text-align: right;\n",
       "    }\n",
       "</style>\n",
       "<table border=\"1\" class=\"dataframe\">\n",
       "  <thead>\n",
       "    <tr style=\"text-align: right;\">\n",
       "      <th></th>\n",
       "      <th>height</th>\n",
       "      <th>weight</th>\n",
       "    </tr>\n",
       "  </thead>\n",
       "  <tbody>\n",
       "    <tr>\n",
       "      <th>0</th>\n",
       "      <td>175.0</td>\n",
       "      <td>59.0</td>\n",
       "    </tr>\n",
       "    <tr>\n",
       "      <th>1</th>\n",
       "      <td>179.7</td>\n",
       "      <td>70.4</td>\n",
       "    </tr>\n",
       "    <tr>\n",
       "      <th>2</th>\n",
       "      <td>178.7</td>\n",
       "      <td>60.8</td>\n",
       "    </tr>\n",
       "    <tr>\n",
       "      <th>3</th>\n",
       "      <td>163.7</td>\n",
       "      <td>52.3</td>\n",
       "    </tr>\n",
       "    <tr>\n",
       "      <th>4</th>\n",
       "      <td>174.9</td>\n",
       "      <td>102.8</td>\n",
       "    </tr>\n",
       "    <tr>\n",
       "      <th>...</th>\n",
       "      <td>...</td>\n",
       "      <td>...</td>\n",
       "    </tr>\n",
       "    <tr>\n",
       "      <th>18037</th>\n",
       "      <td>175.0</td>\n",
       "      <td>63.0</td>\n",
       "    </tr>\n",
       "    <tr>\n",
       "      <th>18038</th>\n",
       "      <td>173.0</td>\n",
       "      <td>89.0</td>\n",
       "    </tr>\n",
       "    <tr>\n",
       "      <th>18039</th>\n",
       "      <td>172.0</td>\n",
       "      <td>75.0</td>\n",
       "    </tr>\n",
       "    <tr>\n",
       "      <th>18040</th>\n",
       "      <td>175.0</td>\n",
       "      <td>51.0</td>\n",
       "    </tr>\n",
       "    <tr>\n",
       "      <th>18041</th>\n",
       "      <td>170.0</td>\n",
       "      <td>78.0</td>\n",
       "    </tr>\n",
       "  </tbody>\n",
       "</table>\n",
       "<p>18042 rows × 2 columns</p>\n",
       "</div>"
      ],
      "text/plain": [
       "       height  weight\n",
       "0       175.0    59.0\n",
       "1       179.7    70.4\n",
       "2       178.7    60.8\n",
       "3       163.7    52.3\n",
       "4       174.9   102.8\n",
       "...       ...     ...\n",
       "18037   175.0    63.0\n",
       "18038   173.0    89.0\n",
       "18039   172.0    75.0\n",
       "18040   175.0    51.0\n",
       "18041   170.0    78.0\n",
       "\n",
       "[18042 rows x 2 columns]"
      ]
     },
     "execution_count": 16,
     "metadata": {},
     "output_type": "execute_result"
    }
   ],
   "source": [
    "data = pd.read_excel('data_statistics/고등학생_남자_키와 몸무게.xlsx')\n",
    "data"
   ]
  },
  {
   "cell_type": "code",
   "execution_count": 17,
   "id": "60b07bbaf4a1bffb",
   "metadata": {
    "ExecuteTime": {
     "end_time": "2025-04-07T08:11:45.983772Z",
     "start_time": "2025-04-07T08:11:45.980163Z"
    }
   },
   "outputs": [
    {
     "name": "stdout",
     "output_type": "stream",
     "text": [
      "키 평균 by np.mean= 173.35823633743487\n",
      "키 평균 by np.average= 173.35823633743487\n",
      "키 가중 평균 by np.average= 173.84647706416487\n"
     ]
    }
   ],
   "source": [
    "# 평균\n",
    "print('키 평균 by np.mean=',np.mean(data['height']))\n",
    "print('키 평균 by np.average=',np.average(data['height']))\n",
    "print('키 가중 평균 by np.average=',np.average(data['height'], weights=data['weight']))"
   ]
  },
  {
   "cell_type": "code",
   "execution_count": 18,
   "id": "465522624567fc72",
   "metadata": {
    "ExecuteTime": {
     "end_time": "2025-04-07T08:11:46.104528Z",
     "start_time": "2025-04-07T08:11:46.101454Z"
    }
   },
   "outputs": [
    {
     "name": "stdout",
     "output_type": "stream",
     "text": [
      "키 중앙값= 173.3\n"
     ]
    }
   ],
   "source": [
    "# 중앙값\n",
    "print('키 중앙값=', np.median(data['height']))"
   ]
  },
  {
   "cell_type": "code",
   "execution_count": 19,
   "id": "9ff95c8601dc12fb",
   "metadata": {
    "ExecuteTime": {
     "end_time": "2025-04-07T08:11:46.483876Z",
     "start_time": "2025-04-07T08:11:46.480929Z"
    }
   },
   "outputs": [
    {
     "name": "stdout",
     "output_type": "stream",
     "text": [
      "최빈값= ModeResult(mode=170.0, count=289)\n"
     ]
    }
   ],
   "source": [
    "# 최빈값\n",
    "print('최빈값=',stats.mode(data['height']))"
   ]
  },
  {
   "cell_type": "markdown",
   "id": "6bf16140db5e7704",
   "metadata": {},
   "source": [
    "### 산포도 계산"
   ]
  },
  {
   "cell_type": "code",
   "execution_count": 20,
   "id": "1d8b76d7a87e672a",
   "metadata": {
    "ExecuteTime": {
     "end_time": "2025-04-07T08:12:01.774117Z",
     "start_time": "2025-04-07T08:12:01.771555Z"
    }
   },
   "outputs": [],
   "source": [
    "import numpy as np\n",
    "import pandas as pd"
   ]
  },
  {
   "cell_type": "code",
   "execution_count": 57,
   "id": "625b5508b3c93753",
   "metadata": {
    "ExecuteTime": {
     "end_time": "2025-04-07T08:24:06.940017Z",
     "start_time": "2025-04-07T08:24:06.927975Z"
    }
   },
   "outputs": [
    {
     "data": {
      "text/html": [
       "<div>\n",
       "<style scoped>\n",
       "    .dataframe tbody tr th:only-of-type {\n",
       "        vertical-align: middle;\n",
       "    }\n",
       "\n",
       "    .dataframe tbody tr th {\n",
       "        vertical-align: top;\n",
       "    }\n",
       "\n",
       "    .dataframe thead th {\n",
       "        text-align: right;\n",
       "    }\n",
       "</style>\n",
       "<table border=\"1\" class=\"dataframe\">\n",
       "  <thead>\n",
       "    <tr style=\"text-align: right;\">\n",
       "      <th></th>\n",
       "      <th>냉면</th>\n",
       "      <th>비빔밥</th>\n",
       "      <th>김치찌개</th>\n",
       "      <th>삼겹살</th>\n",
       "      <th>자장면</th>\n",
       "      <th>삼계탕</th>\n",
       "      <th>칼국수</th>\n",
       "      <th>김밥</th>\n",
       "    </tr>\n",
       "    <tr>\n",
       "      <th>지역</th>\n",
       "      <th></th>\n",
       "      <th></th>\n",
       "      <th></th>\n",
       "      <th></th>\n",
       "      <th></th>\n",
       "      <th></th>\n",
       "      <th></th>\n",
       "      <th></th>\n",
       "    </tr>\n",
       "  </thead>\n",
       "  <tbody>\n",
       "    <tr>\n",
       "      <th>서울</th>\n",
       "      <td>9731</td>\n",
       "      <td>9154</td>\n",
       "      <td>7077</td>\n",
       "      <td>16897</td>\n",
       "      <td>5692</td>\n",
       "      <td>14231</td>\n",
       "      <td>7615</td>\n",
       "      <td>2731</td>\n",
       "    </tr>\n",
       "    <tr>\n",
       "      <th>광주</th>\n",
       "      <td>8400</td>\n",
       "      <td>8700</td>\n",
       "      <td>7100</td>\n",
       "      <td>13600</td>\n",
       "      <td>5700</td>\n",
       "      <td>14600</td>\n",
       "      <td>7400</td>\n",
       "      <td>2800</td>\n",
       "    </tr>\n",
       "    <tr>\n",
       "      <th>대구</th>\n",
       "      <td>9000</td>\n",
       "      <td>9050</td>\n",
       "      <td>6667</td>\n",
       "      <td>13658</td>\n",
       "      <td>5167</td>\n",
       "      <td>14333</td>\n",
       "      <td>6250</td>\n",
       "      <td>2333</td>\n",
       "    </tr>\n",
       "    <tr>\n",
       "      <th>대전</th>\n",
       "      <td>8600</td>\n",
       "      <td>9400</td>\n",
       "      <td>6700</td>\n",
       "      <td>16583</td>\n",
       "      <td>5600</td>\n",
       "      <td>13000</td>\n",
       "      <td>6200</td>\n",
       "      <td>2600</td>\n",
       "    </tr>\n",
       "    <tr>\n",
       "      <th>부산</th>\n",
       "      <td>9429</td>\n",
       "      <td>7700</td>\n",
       "      <td>6714</td>\n",
       "      <td>14168</td>\n",
       "      <td>5214</td>\n",
       "      <td>14143</td>\n",
       "      <td>6071</td>\n",
       "      <td>2429</td>\n",
       "    </tr>\n",
       "    <tr>\n",
       "      <th>울산</th>\n",
       "      <td>8300</td>\n",
       "      <td>8200</td>\n",
       "      <td>7200</td>\n",
       "      <td>14969</td>\n",
       "      <td>5900</td>\n",
       "      <td>13200</td>\n",
       "      <td>7400</td>\n",
       "      <td>2700</td>\n",
       "    </tr>\n",
       "    <tr>\n",
       "      <th>인천</th>\n",
       "      <td>9167</td>\n",
       "      <td>7817</td>\n",
       "      <td>6667</td>\n",
       "      <td>15496</td>\n",
       "      <td>5667</td>\n",
       "      <td>14167</td>\n",
       "      <td>6917</td>\n",
       "      <td>2667</td>\n",
       "    </tr>\n",
       "    <tr>\n",
       "      <th>강원</th>\n",
       "      <td>8389</td>\n",
       "      <td>7944</td>\n",
       "      <td>7167</td>\n",
       "      <td>13407</td>\n",
       "      <td>5278</td>\n",
       "      <td>13444</td>\n",
       "      <td>7500</td>\n",
       "      <td>2444</td>\n",
       "    </tr>\n",
       "    <tr>\n",
       "      <th>경기</th>\n",
       "      <td>8897</td>\n",
       "      <td>7797</td>\n",
       "      <td>6931</td>\n",
       "      <td>15455</td>\n",
       "      <td>5793</td>\n",
       "      <td>14414</td>\n",
       "      <td>7621</td>\n",
       "      <td>2741</td>\n",
       "    </tr>\n",
       "    <tr>\n",
       "      <th>경남</th>\n",
       "      <td>8808</td>\n",
       "      <td>7577</td>\n",
       "      <td>7269</td>\n",
       "      <td>15148</td>\n",
       "      <td>5231</td>\n",
       "      <td>14154</td>\n",
       "      <td>6308</td>\n",
       "      <td>2931</td>\n",
       "    </tr>\n",
       "    <tr>\n",
       "      <th>경북</th>\n",
       "      <td>8346</td>\n",
       "      <td>7800</td>\n",
       "      <td>7192</td>\n",
       "      <td>14162</td>\n",
       "      <td>5346</td>\n",
       "      <td>13077</td>\n",
       "      <td>6846</td>\n",
       "      <td>2538</td>\n",
       "    </tr>\n",
       "    <tr>\n",
       "      <th>전남</th>\n",
       "      <td>7667</td>\n",
       "      <td>7778</td>\n",
       "      <td>6556</td>\n",
       "      <td>16139</td>\n",
       "      <td>6000</td>\n",
       "      <td>14333</td>\n",
       "      <td>7333</td>\n",
       "      <td>2167</td>\n",
       "    </tr>\n",
       "    <tr>\n",
       "      <th>전북</th>\n",
       "      <td>8200</td>\n",
       "      <td>9350</td>\n",
       "      <td>7350</td>\n",
       "      <td>14323</td>\n",
       "      <td>5400</td>\n",
       "      <td>14300</td>\n",
       "      <td>7350</td>\n",
       "      <td>2350</td>\n",
       "    </tr>\n",
       "    <tr>\n",
       "      <th>충남</th>\n",
       "      <td>8300</td>\n",
       "      <td>8250</td>\n",
       "      <td>7200</td>\n",
       "      <td>14794</td>\n",
       "      <td>5500</td>\n",
       "      <td>13800</td>\n",
       "      <td>7100</td>\n",
       "      <td>2500</td>\n",
       "    </tr>\n",
       "    <tr>\n",
       "      <th>충북</th>\n",
       "      <td>7643</td>\n",
       "      <td>7743</td>\n",
       "      <td>7286</td>\n",
       "      <td>12663</td>\n",
       "      <td>5143</td>\n",
       "      <td>12286</td>\n",
       "      <td>6500</td>\n",
       "      <td>2357</td>\n",
       "    </tr>\n",
       "    <tr>\n",
       "      <th>제주</th>\n",
       "      <td>8750</td>\n",
       "      <td>8500</td>\n",
       "      <td>8125</td>\n",
       "      <td>15667</td>\n",
       "      <td>6000</td>\n",
       "      <td>13000</td>\n",
       "      <td>8250</td>\n",
       "      <td>2750</td>\n",
       "    </tr>\n",
       "  </tbody>\n",
       "</table>\n",
       "</div>"
      ],
      "text/plain": [
       "      냉면   비빔밥  김치찌개    삼겹살   자장면    삼계탕   칼국수    김밥\n",
       "지역                                                  \n",
       "서울  9731  9154  7077  16897  5692  14231  7615  2731\n",
       "광주  8400  8700  7100  13600  5700  14600  7400  2800\n",
       "대구  9000  9050  6667  13658  5167  14333  6250  2333\n",
       "대전  8600  9400  6700  16583  5600  13000  6200  2600\n",
       "부산  9429  7700  6714  14168  5214  14143  6071  2429\n",
       "울산  8300  8200  7200  14969  5900  13200  7400  2700\n",
       "인천  9167  7817  6667  15496  5667  14167  6917  2667\n",
       "강원  8389  7944  7167  13407  5278  13444  7500  2444\n",
       "경기  8897  7797  6931  15455  5793  14414  7621  2741\n",
       "경남  8808  7577  7269  15148  5231  14154  6308  2931\n",
       "경북  8346  7800  7192  14162  5346  13077  6846  2538\n",
       "전남  7667  7778  6556  16139  6000  14333  7333  2167\n",
       "전북  8200  9350  7350  14323  5400  14300  7350  2350\n",
       "충남  8300  8250  7200  14794  5500  13800  7100  2500\n",
       "충북  7643  7743  7286  12663  5143  12286  6500  2357\n",
       "제주  8750  8500  8125  15667  6000  13000  8250  2750"
      ]
     },
     "execution_count": 57,
     "metadata": {},
     "output_type": "execute_result"
    }
   ],
   "source": [
    "data2= pd.read_excel('data_statistics/외식비.xlsx')\n",
    "data2.set_index(\"지역\")"
   ]
  },
  {
   "cell_type": "code",
   "execution_count": 60,
   "id": "9cbfc863c241b15e",
   "metadata": {
    "ExecuteTime": {
     "end_time": "2025-04-07T08:25:04.018225Z",
     "start_time": "2025-04-07T08:25:04.014208Z"
    }
   },
   "outputs": [
    {
     "data": {
      "text/plain": [
       "냉면      2088\n",
       "비빔밥     1823\n",
       "김치찌개    1569\n",
       "삼겹살     4234\n",
       "자장면      857\n",
       "삼계탕     2314\n",
       "칼국수     2179\n",
       "김밥       764\n",
       "Name: 범위, dtype: int64"
      ]
     },
     "execution_count": 60,
     "metadata": {},
     "output_type": "execute_result"
    }
   ],
   "source": [
    "(data2.drop(columns='지역').max(axis=0) - data2.drop(columns='지역').min(axis=0)).rename('범위')"
   ]
  },
  {
   "cell_type": "code",
   "execution_count": 64,
   "id": "f5009ccb53bdb3bb",
   "metadata": {
    "ExecuteTime": {
     "end_time": "2025-04-07T08:26:17.252972Z",
     "start_time": "2025-04-07T08:26:17.248086Z"
    }
   },
   "outputs": [
    {
     "data": {
      "text/plain": [
       "냉면      3.251462e+05\n",
       "비빔밥     4.096808e+05\n",
       "김치찌개    1.472190e+05\n",
       "삼겹살     1.430858e+06\n",
       "자장면     8.741413e+04\n",
       "삼계탕     4.649287e+05\n",
       "칼국수     3.958305e+05\n",
       "김밥      4.343998e+04\n",
       "Name: 분산, dtype: float64"
      ]
     },
     "execution_count": 64,
     "metadata": {},
     "output_type": "execute_result"
    }
   ],
   "source": [
    "(data2.drop(columns='지역').var(axis=0)).rename('분산')"
   ]
  },
  {
   "cell_type": "code",
   "execution_count": 70,
   "id": "2a82fa294d550b14",
   "metadata": {
    "ExecuteTime": {
     "end_time": "2025-04-07T08:30:05.275078Z",
     "start_time": "2025-04-07T08:30:05.269968Z"
    }
   },
   "outputs": [
    {
     "data": {
      "text/plain": [
       "냉면       570.215950\n",
       "비빔밥      640.063122\n",
       "김치찌개     383.691277\n",
       "삼겹살     1196.184599\n",
       "자장면      295.658805\n",
       "삼계탕      681.856766\n",
       "칼국수      629.150615\n",
       "김밥       208.422608\n",
       "Name: 표준편차, dtype: float64"
      ]
     },
     "execution_count": 70,
     "metadata": {},
     "output_type": "execute_result"
    }
   ],
   "source": [
    "(data2.drop(columns='지역').std(axis=0)).rename('표준편차')"
   ]
  },
  {
   "cell_type": "code",
   "execution_count": 69,
   "id": "13b5b25499ef4c30",
   "metadata": {
    "ExecuteTime": {
     "end_time": "2025-04-07T08:28:26.455065Z",
     "start_time": "2025-04-07T08:28:26.449618Z"
    }
   },
   "outputs": [
    {
     "data": {
      "text/html": [
       "<div>\n",
       "<style scoped>\n",
       "    .dataframe tbody tr th:only-of-type {\n",
       "        vertical-align: middle;\n",
       "    }\n",
       "\n",
       "    .dataframe tbody tr th {\n",
       "        vertical-align: top;\n",
       "    }\n",
       "\n",
       "    .dataframe thead th {\n",
       "        text-align: right;\n",
       "    }\n",
       "</style>\n",
       "<table border=\"1\" class=\"dataframe\">\n",
       "  <thead>\n",
       "    <tr style=\"text-align: right;\">\n",
       "      <th></th>\n",
       "      <th>냉면</th>\n",
       "      <th>비빔밥</th>\n",
       "      <th>김치찌개</th>\n",
       "      <th>삼겹살</th>\n",
       "      <th>자장면</th>\n",
       "      <th>삼계탕</th>\n",
       "      <th>칼국수</th>\n",
       "      <th>김밥</th>\n",
       "    </tr>\n",
       "  </thead>\n",
       "  <tbody>\n",
       "    <tr>\n",
       "      <th>0.25</th>\n",
       "      <td>8300.00</td>\n",
       "      <td>7792.25</td>\n",
       "      <td>6710.50</td>\n",
       "      <td>14036.00</td>\n",
       "      <td>5266.25</td>\n",
       "      <td>13169.25</td>\n",
       "      <td>6452.0</td>\n",
       "      <td>2411.0</td>\n",
       "    </tr>\n",
       "    <tr>\n",
       "      <th>0.50</th>\n",
       "      <td>8500.00</td>\n",
       "      <td>8072.00</td>\n",
       "      <td>7133.50</td>\n",
       "      <td>14881.50</td>\n",
       "      <td>5550.00</td>\n",
       "      <td>14148.50</td>\n",
       "      <td>7216.5</td>\n",
       "      <td>2569.0</td>\n",
       "    </tr>\n",
       "    <tr>\n",
       "      <th>0.75</th>\n",
       "      <td>8922.75</td>\n",
       "      <td>8787.50</td>\n",
       "      <td>7217.25</td>\n",
       "      <td>15538.75</td>\n",
       "      <td>5723.25</td>\n",
       "      <td>14308.25</td>\n",
       "      <td>7425.0</td>\n",
       "      <td>2733.5</td>\n",
       "    </tr>\n",
       "  </tbody>\n",
       "</table>\n",
       "</div>"
      ],
      "text/plain": [
       "           냉면      비빔밥     김치찌개       삼겹살      자장면       삼계탕     칼국수      김밥\n",
       "0.25  8300.00  7792.25  6710.50  14036.00  5266.25  13169.25  6452.0  2411.0\n",
       "0.50  8500.00  8072.00  7133.50  14881.50  5550.00  14148.50  7216.5  2569.0\n",
       "0.75  8922.75  8787.50  7217.25  15538.75  5723.25  14308.25  7425.0  2733.5"
      ]
     },
     "execution_count": 69,
     "metadata": {},
     "output_type": "execute_result"
    }
   ],
   "source": [
    "(data2.drop(columns='지역').quantile([0.25, 0.5, 0.75]))"
   ]
  },
  {
   "cell_type": "markdown",
   "id": "3b7e0b8136fa6181",
   "metadata": {},
   "source": [
    "### 상관분석"
   ]
  },
  {
   "cell_type": "code",
   "execution_count": 71,
   "id": "2854f647b386c42c",
   "metadata": {
    "ExecuteTime": {
     "end_time": "2025-04-07T09:43:52.362151Z",
     "start_time": "2025-04-07T09:43:52.359526Z"
    }
   },
   "outputs": [],
   "source": [
    "import pandas as pd\n",
    "import matplotlib.pyplot as plt\n",
    "import scipy.stats as stats"
   ]
  },
  {
   "cell_type": "code",
   "execution_count": 73,
   "id": "5655db7ef86703af",
   "metadata": {
    "ExecuteTime": {
     "end_time": "2025-04-07T09:44:38.048980Z",
     "start_time": "2025-04-07T09:44:38.037653Z"
    }
   },
   "outputs": [
    {
     "data": {
      "text/html": [
       "<div>\n",
       "<style scoped>\n",
       "    .dataframe tbody tr th:only-of-type {\n",
       "        vertical-align: middle;\n",
       "    }\n",
       "\n",
       "    .dataframe tbody tr th {\n",
       "        vertical-align: top;\n",
       "    }\n",
       "\n",
       "    .dataframe thead th {\n",
       "        text-align: right;\n",
       "    }\n",
       "</style>\n",
       "<table border=\"1\" class=\"dataframe\">\n",
       "  <thead>\n",
       "    <tr style=\"text-align: right;\">\n",
       "      <th></th>\n",
       "      <th>키</th>\n",
       "      <th>몸무게</th>\n",
       "    </tr>\n",
       "  </thead>\n",
       "  <tbody>\n",
       "    <tr>\n",
       "      <th>0</th>\n",
       "      <td>124.8</td>\n",
       "      <td>20.1</td>\n",
       "    </tr>\n",
       "    <tr>\n",
       "      <th>1</th>\n",
       "      <td>123.5</td>\n",
       "      <td>28.4</td>\n",
       "    </tr>\n",
       "    <tr>\n",
       "      <th>2</th>\n",
       "      <td>112.8</td>\n",
       "      <td>18.5</td>\n",
       "    </tr>\n",
       "    <tr>\n",
       "      <th>3</th>\n",
       "      <td>124.9</td>\n",
       "      <td>21.8</td>\n",
       "    </tr>\n",
       "    <tr>\n",
       "      <th>4</th>\n",
       "      <td>116.9</td>\n",
       "      <td>21.0</td>\n",
       "    </tr>\n",
       "    <tr>\n",
       "      <th>...</th>\n",
       "      <td>...</td>\n",
       "      <td>...</td>\n",
       "    </tr>\n",
       "    <tr>\n",
       "      <th>93</th>\n",
       "      <td>124.0</td>\n",
       "      <td>26.4</td>\n",
       "    </tr>\n",
       "    <tr>\n",
       "      <th>94</th>\n",
       "      <td>115.9</td>\n",
       "      <td>21.4</td>\n",
       "    </tr>\n",
       "    <tr>\n",
       "      <th>95</th>\n",
       "      <td>131.3</td>\n",
       "      <td>28.4</td>\n",
       "    </tr>\n",
       "    <tr>\n",
       "      <th>96</th>\n",
       "      <td>128.9</td>\n",
       "      <td>30.9</td>\n",
       "    </tr>\n",
       "    <tr>\n",
       "      <th>97</th>\n",
       "      <td>132.5</td>\n",
       "      <td>26.5</td>\n",
       "    </tr>\n",
       "  </tbody>\n",
       "</table>\n",
       "<p>98 rows × 2 columns</p>\n",
       "</div>"
      ],
      "text/plain": [
       "        키   몸무게\n",
       "0   124.8  20.1\n",
       "1   123.5  28.4\n",
       "2   112.8  18.5\n",
       "3   124.9  21.8\n",
       "4   116.9  21.0\n",
       "..    ...   ...\n",
       "93  124.0  26.4\n",
       "94  115.9  21.4\n",
       "95  131.3  28.4\n",
       "96  128.9  30.9\n",
       "97  132.5  26.5\n",
       "\n",
       "[98 rows x 2 columns]"
      ]
     },
     "execution_count": 73,
     "metadata": {},
     "output_type": "execute_result"
    }
   ],
   "source": [
    "data3 = pd.read_excel('data_statistics/초등학교3학년_남자.xlsx')\n",
    "data3"
   ]
  },
  {
   "cell_type": "code",
   "execution_count": 75,
   "id": "59aa19e90e25465c",
   "metadata": {
    "ExecuteTime": {
     "end_time": "2025-04-07T09:46:22.911178Z",
     "start_time": "2025-04-07T09:46:22.853030Z"
    }
   },
   "outputs": [
    {
     "data": {
      "image/png": "[encoded data removed]",
      "text/plain": [
       "<Figure size 640x480 with 1 Axes>"
      ]
     },
     "metadata": {},
     "output_type": "display_data"
    }
   ],
   "source": [
    "plt.scatter(data3['키'],data3['몸무게'])\n",
    "plt.xlabel('height')\n",
    "plt.ylabel('weight')\n",
    "plt.grid(True)\n",
    "plt.show()"
   ]
  },
  {
   "cell_type": "code",
   "execution_count": 76,
   "id": "5fd292f82e43377f",
   "metadata": {
    "ExecuteTime": {
     "end_time": "2025-04-07T09:46:52.974167Z",
     "start_time": "2025-04-07T09:46:52.971078Z"
    }
   },
   "outputs": [
    {
     "name": "stdout",
     "output_type": "stream",
     "text": [
      "PearsonRResult(statistic=0.8583011404409243, pvalue=1.4375440398438247e-29)\n"
     ]
    }
   ],
   "source": [
    "corr=stats.pearsonr(data3['키'],data3['몸무게'])\n",
    "print(corr)"
   ]
  },
  {
   "cell_type": "code",
   "execution_count": 77,
   "id": "d5a5a10e9a60a816",
   "metadata": {
    "ExecuteTime": {
     "end_time": "2025-04-07T09:50:43.058545Z",
     "start_time": "2025-04-07T09:50:43.052631Z"
    }
   },
   "outputs": [
    {
     "data": {
      "text/html": [
       "<div>\n",
       "<style scoped>\n",
       "    .dataframe tbody tr th:only-of-type {\n",
       "        vertical-align: middle;\n",
       "    }\n",
       "\n",
       "    .dataframe tbody tr th {\n",
       "        vertical-align: top;\n",
       "    }\n",
       "\n",
       "    .dataframe thead th {\n",
       "        text-align: right;\n",
       "    }\n",
       "</style>\n",
       "<table border=\"1\" class=\"dataframe\">\n",
       "  <thead>\n",
       "    <tr style=\"text-align: right;\">\n",
       "      <th></th>\n",
       "      <th>키</th>\n",
       "      <th>몸무게</th>\n",
       "    </tr>\n",
       "  </thead>\n",
       "  <tbody>\n",
       "    <tr>\n",
       "      <th>count</th>\n",
       "      <td>98.000000</td>\n",
       "      <td>98.000000</td>\n",
       "    </tr>\n",
       "    <tr>\n",
       "      <th>mean</th>\n",
       "      <td>132.130612</td>\n",
       "      <td>31.536735</td>\n",
       "    </tr>\n",
       "    <tr>\n",
       "      <th>std</th>\n",
       "      <td>12.395954</td>\n",
       "      <td>9.699361</td>\n",
       "    </tr>\n",
       "    <tr>\n",
       "      <th>min</th>\n",
       "      <td>110.900000</td>\n",
       "      <td>17.200000</td>\n",
       "    </tr>\n",
       "    <tr>\n",
       "      <th>25%</th>\n",
       "      <td>122.975000</td>\n",
       "      <td>24.150000</td>\n",
       "    </tr>\n",
       "    <tr>\n",
       "      <th>50%</th>\n",
       "      <td>131.150000</td>\n",
       "      <td>28.950000</td>\n",
       "    </tr>\n",
       "    <tr>\n",
       "      <th>75%</th>\n",
       "      <td>140.725000</td>\n",
       "      <td>39.575000</td>\n",
       "    </tr>\n",
       "    <tr>\n",
       "      <th>max</th>\n",
       "      <td>163.000000</td>\n",
       "      <td>56.700000</td>\n",
       "    </tr>\n",
       "  </tbody>\n",
       "</table>\n",
       "</div>"
      ],
      "text/plain": [
       "                키        몸무게\n",
       "count   98.000000  98.000000\n",
       "mean   132.130612  31.536735\n",
       "std     12.395954   9.699361\n",
       "min    110.900000  17.200000\n",
       "25%    122.975000  24.150000\n",
       "50%    131.150000  28.950000\n",
       "75%    140.725000  39.575000\n",
       "max    163.000000  56.700000"
      ]
     },
     "execution_count": 77,
     "metadata": {},
     "output_type": "execute_result"
    }
   ],
   "source": [
    "data3.describe()"
   ]
  }
 ],
 "metadata": {
  "kernelspec": {
   "display_name": "base",
   "language": "python",
   "name": "python3"
  },
  "language_info": {
   "codemirror_mode": {
    "name": "ipython",
    "version": 2
   },
   "file_extension": ".py",
   "mimetype": "text/x-python",
   "name": "python",
   "nbconvert_exporter": "python",
   "pygments_lexer": "ipython2",
   "version": "3.11.8"
  }
 },
 "nbformat": 4,
 "nbformat_minor": 5
}
