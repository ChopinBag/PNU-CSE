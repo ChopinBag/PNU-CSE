{
 "cells": [
  {
   "cell_type": "code",
   "execution_count": null,
   "id": "bb923fc4",
   "metadata": {},
   "outputs": [],
   "source": [
    "import numpy as np\n",
    "from sklearn.tree import DecisionTreeClassifier\n",
    "from sklearn.linear_model import LogisticRegression\n",
    "from sklearn.naive_bayes import GaussianNB\n",
    "from sklearn.ensemble import VotingClassifier, BaggingClassifier, RandomForestClassifier, AdaBoostClassifier\n",
    "from sklearn.model_selection import cross_val_score, GridSearchCV\n",
    "\n",
    "# 데이터 로드\n",
    "X = np.load('Ensemble_titanic_X_train.npy')\n",
    "y = np.load('Ensemble_titanic_y_train.npy')\n"
   ]
  },
  {
   "cell_type": "code",
   "execution_count": null,
   "id": "d9be9632",
   "metadata": {},
   "outputs": [],
   "source": [
    "# 개별 분류기 정의\n",
    "clf1 = LogisticRegression(random_state=1)\n",
    "clf2 = DecisionTreeClassifier(random_state=1, max_depth=4)\n",
    "clf3 = GaussianNB()\n",
    "\n",
    "# Voting Classifier 생성\n",
    "eclf = VotingClassifier(\n",
    "    estimators=[('lr', clf1), ('dt', clf2), ('gnb', clf3)],\n",
    "    voting='hard'\n",
    ")\n",
    "\n",
    "# 교차검증 성능 평가\n",
    "print(\"Voting Classifier CV Score:\", cross_val_score(eclf, X, y, cv=5).mean())\n"
   ]
  },
  {
   "cell_type": "code",
   "execution_count": null,
   "id": "b3cf6ca7",
   "metadata": {},
   "outputs": [],
   "source": [
    "params = {\n",
    "    'lr__solver': ['liblinear'],\n",
    "    'lr__penalty': ['l2'],\n",
    "    'lr__C': [0.1, 5.0, 7.0, 10.0, 15.0, 20.0, 100.0],\n",
    "    'dt__criterion': ['gini', 'entropy'],\n",
    "    'dt__max_depth': [10,8,7,6,5,4,3,2],\n",
    "    'dt__min_samples_leaf': [1,2,3,4,5,6,7,8,9]\n",
    "}\n",
    "grid = GridSearchCV(estimator=eclf, param_grid=params, cv=5)\n",
    "grid.fit(X, y)\n",
    "print(\"Voting Classifier Best Score:\", grid.best_score_)\n",
    "print(\"Voting Classifier Best Params:\", grid.best_params_)\n"
   ]
  },
  {
   "cell_type": "code",
   "execution_count": null,
   "id": "4aa873ad",
   "metadata": {},
   "outputs": [],
   "source": [
    "clf = LogisticRegression(random_state=1)\n",
    "bagging = BaggingClassifier(clf, n_estimators=100, random_state=1)\n",
    "print(\"Bagging Classifier CV Score:\", cross_val_score(bagging, X, y, cv=5).mean())\n"
   ]
  },
  {
   "cell_type": "code",
   "execution_count": null,
   "id": "cf578332",
   "metadata": {},
   "outputs": [],
   "source": [
    "params = {\n",
    "    'n_estimators': [10,20,30,40,50,55],\n",
    "    'max_samples': [0.5,0.6,0.7,0.8,0.9,1]\n",
    "}\n",
    "grid = GridSearchCV(estimator=bagging, param_grid=params, cv=5)\n",
    "grid.fit(X, y)\n",
    "print(\"Bagging Classifier Best Score:\", grid.best_score_)\n",
    "print(\"Bagging Classifier Best Params:\", grid.best_params_)\n"
   ]
  },
  {
   "cell_type": "code",
   "execution_count": null,
   "id": "b2809980",
   "metadata": {},
   "outputs": [],
   "source": [
    "rf = RandomForestClassifier(n_estimators=100, max_features=2, n_jobs=-1)\n",
    "print(\"Random Forest CV Score:\", cross_val_score(rf, X, y, cv=5).mean())\n"
   ]
  },
  {
   "cell_type": "code",
   "execution_count": null,
   "id": "bc665cc8",
   "metadata": {},
   "outputs": [],
   "source": [
    "params = {\n",
    "    'n_estimators': [10, 20, 30, 50, 100],\n",
    "    'max_features': [1,2,3,4,5,6,7,10,15,20,25, X.shape[1]]\n",
    "}\n",
    "grid = GridSearchCV(estimator=rf, param_grid=params, cv=5)\n",
    "grid.fit(X, y)\n",
    "print(\"Random Forest Best Score:\", grid.best_score_)\n",
    "print(\"Random Forest Best Params:\", grid.best_params_)\n",
    "\n",
    "# OOB Score\n",
    "best_rf = grid.best_estimator_\n",
    "best_rf.set_params(oob_score=True)\n",
    "best_rf.fit(X, y)\n",
    "print(\"Random Forest OOB Score:\", best_rf.oob_score_)\n"
   ]
  },
  {
   "cell_type": "code",
   "execution_count": null,
   "id": "f57f071d",
   "metadata": {},
   "outputs": [],
   "source": [
    "ada = AdaBoostClassifier(\n",
    "    estimator=DecisionTreeClassifier(max_depth=2),\n",
    "    n_estimators=500\n",
    ")\n",
    "print(\"AdaBoost CV Score:\", cross_val_score(ada, X, y, cv=5).mean())\n"
   ]
  },
  {
   "cell_type": "code",
   "execution_count": null,
   "id": "282686bb",
   "metadata": {},
   "outputs": [],
   "source": [
    "params = {\n",
    "    'estimator__criterion': ['gini', 'entropy'],\n",
    "    'estimator__max_features': [7, 8],\n",
    "    'estimator__max_depth': [1, 2],\n",
    "    'n_estimators': [23, 24, 25, 26, 27],\n",
    "    'learning_rate': [0.4, 0.45, 0.5, 0.55, 0.6]\n",
    "}\n",
    "grid = GridSearchCV(estimator=ada, param_grid=params, cv=5, n_jobs=-1)\n",
    "grid.fit(X, y)\n",
    "print(\"AdaBoost Best Score:\", grid.best_score_)\n",
    "print(\"AdaBoost Best Params:\", grid.best_params_)\n",
    "\n",
    "# 특성 중요도\n",
    "print(\"AdaBoost Feature Importances:\", grid.best_estimator_.feature_importances_)\n"
   ]
  }
 ],
 "metadata": {
  "kernelspec": {
   "display_name": "base",
   "language": "python",
   "name": "python3"
  },
  "language_info": {
   "name": "python",
   "version": "3.11.8"
  }
 },
 "nbformat": 4,
 "nbformat_minor": 5
}
