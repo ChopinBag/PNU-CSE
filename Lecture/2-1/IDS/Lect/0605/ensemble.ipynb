{
 "cells": [
  {
   "cell_type": "code",
   "execution_count": null,
   "id": "710d55f4",
   "metadata": {},
   "outputs": [],
   "source": [
    "import numpy as np\n",
    "from sklearn.tree import DecisionTreeClassifier\n",
    "from sklearn.linear_model import LogisticRegression\n",
    "from sklearn.naive_bayes import GaussianNB\n",
    "from sklearn.ensemble import VotingClassifier, BaggingClassifier, RandomForestClassifier, AdaBoostClassifier\n",
    "from sklearn.model_selection import cross_val_score, GridSearchCV\n",
    "\n",
    "# 데이터 로드\n",
    "X = np.load('./Ensemble_titanic_X_train.npy')\n",
    "y = np.load('./Ensemble_titanic_y_train.npy')\n"
   ]
  },
  {
   "cell_type": "code",
   "execution_count": null,
   "id": "5d73330b",
   "metadata": {},
   "outputs": [
    {
     "name": "stdout",
     "output_type": "stream",
     "text": [
      "Voting Classifier CV Score: 0.8222941661905668\n"
     ]
    }
   ],
   "source": [
    "# 개별 분류기 정의\n",
    "clf1 = LogisticRegression(random_state=1)\n",
    "clf2 = DecisionTreeClassifier(random_state=1, max_depth=4)\n",
    "clf3 = GaussianNB()\n",
    "\n",
    "# Voting Classifier 생성\n",
    "eclf = VotingClassifier(\n",
    "    estimators=[('lr', clf1), ('dt', clf2), ('gnb', clf3)],\n",
    "    voting='hard'\n",
    ")\n",
    "\n",
    "# 교차검증 성능 평가\n",
    "print(\"Voting Classifier CV Score:\", cross_val_score(eclf, X, y, cv=5).mean())\n"
   ]
  },
  {
   "cell_type": "code",
   "execution_count": null,
   "id": "4cce4e2d",
   "metadata": {},
   "outputs": [
    {
     "name": "stdout",
     "output_type": "stream",
     "text": [
      "Voting Classifier Best Score: 0.8256839966990415\n",
      "Voting Classifier Best Params: {'dt__criterion': 'entropy', 'dt__max_depth': 5, 'dt__min_samples_leaf': 7, 'lr__C': 100.0, 'lr__penalty': 'l2', 'lr__solver': 'liblinear'}\n"
     ]
    }
   ],
   "source": [
    "params = {\n",
    "    'lr__solver': ['liblinear'],\n",
    "    'lr__penalty': ['l2'],\n",
    "    'lr__C': [0.1, 5.0, 7.0, 10.0, 15.0, 20.0, 100.0],\n",
    "    'dt__criterion': ['gini', 'entropy'],\n",
    "    'dt__max_depth': [10,8,7,6,5,4,3,2],\n",
    "    'dt__min_samples_leaf': [1,2,3,4,5,6,7,8,9]\n",
    "}\n",
    "grid = GridSearchCV(estimator=eclf, param_grid=params, cv=5)\n",
    "grid.fit(X, y)\n",
    "print(\"Voting Classifier Best Score:\", grid.best_score_)\n",
    "print(\"Voting Classifier Best Params:\", grid.best_params_)\n"
   ]
  },
  {
   "cell_type": "code",
   "execution_count": null,
   "id": "cb677a23",
   "metadata": {},
   "outputs": [
    {
     "name": "stdout",
     "output_type": "stream",
     "text": [
      "Bagging Classifier CV Score: 0.8312892782327175\n"
     ]
    }
   ],
   "source": [
    "clf = LogisticRegression(random_state=1)\n",
    "bagging = BaggingClassifier(clf, n_estimators=100, random_state=1)\n",
    "print(\"Bagging Classifier CV Score:\", cross_val_score(bagging, X, y, cv=5).mean())\n"
   ]
  },
  {
   "cell_type": "code",
   "execution_count": 13,
   "id": "60e4706b",
   "metadata": {},
   "outputs": [
    {
     "name": "stdout",
     "output_type": "stream",
     "text": [
      "Bagging Classifier Best Score: 0.8290484352186885\n",
      "Bagging Classifier Best Params: {'max_samples': 0.9, 'n_estimators': 20}\n"
     ]
    }
   ],
   "source": [
    "params = {\n",
    "    'n_estimators': [10,20,30,40,50,55],\n",
    "    'max_samples': [0.5,0.6,0.7,0.8,0.9,1]\n",
    "}\n",
    "grid = GridSearchCV(estimator=bagging, param_grid=params, cv=5)\n",
    "grid.fit(X, y)\n",
    "print(\"Bagging Classifier Best Score:\", grid.best_score_)\n",
    "print(\"Bagging Classifier Best Params:\", grid.best_params_)\n"
   ]
  },
  {
   "cell_type": "code",
   "execution_count": 15,
   "id": "ffc131a7",
   "metadata": {},
   "outputs": [
    {
     "name": "stdout",
     "output_type": "stream",
     "text": [
      "Random Forest CV Score: 0.80769377261474\n"
     ]
    }
   ],
   "source": [
    "rf = RandomForestClassifier(n_estimators=100, max_features=2, n_jobs=-1)\n",
    "print(\"Random Forest CV Score:\", cross_val_score(rf, X, y, cv=5).mean())\n"
   ]
  },
  {
   "cell_type": "code",
   "execution_count": 16,
   "id": "e943040d",
   "metadata": {},
   "outputs": [
    {
     "name": "stdout",
     "output_type": "stream",
     "text": [
      "Random Forest Best Score: 0.8256776487018346\n",
      "Random Forest Best Params: {'max_features': 20, 'n_estimators': 10}\n",
      "Random Forest OOB Score: 0.8053993250843644\n"
     ]
    },
    {
     "name": "stderr",
     "output_type": "stream",
     "text": [
      "/opt/anaconda3/lib/python3.11/site-packages/sklearn/ensemble/_forest.py:583: UserWarning: Some inputs do not have OOB scores. This probably means too few trees were used to compute any reliable OOB estimates.\n",
      "  warn(\n"
     ]
    }
   ],
   "source": [
    "params = {\n",
    "    'n_estimators': [10, 20, 30, 50, 100],\n",
    "    'max_features': [1,2,3,4,5,6,7,10,15,20,25, X.shape[1]]\n",
    "}\n",
    "grid = GridSearchCV(estimator=rf, param_grid=params, cv=5)\n",
    "grid.fit(X, y)\n",
    "print(\"Random Forest Best Score:\", grid.best_score_)\n",
    "print(\"Random Forest Best Params:\", grid.best_params_)\n",
    "\n",
    "# OOB Score\n",
    "best_rf = grid.best_estimator_\n",
    "best_rf.set_params(oob_score=True)\n",
    "best_rf.fit(X, y)\n",
    "print(\"Random Forest OOB Score:\", best_rf.oob_score_)\n"
   ]
  },
  {
   "cell_type": "code",
   "execution_count": 17,
   "id": "8fd2b2b7",
   "metadata": {},
   "outputs": [
    {
     "name": "stdout",
     "output_type": "stream",
     "text": [
      "AdaBoost CV Score: 0.794172538564083\n"
     ]
    }
   ],
   "source": [
    "ada = AdaBoostClassifier(\n",
    "    estimator=DecisionTreeClassifier(max_depth=2),\n",
    "    n_estimators=500\n",
    ")\n",
    "print(\"AdaBoost CV Score:\", cross_val_score(ada, X, y, cv=5).mean())\n"
   ]
  },
  {
   "cell_type": "code",
   "execution_count": 18,
   "id": "4f034c95",
   "metadata": {},
   "outputs": [
    {
     "name": "stdout",
     "output_type": "stream",
     "text": [
      "AdaBoost Best Score: 0.838056243255253\n",
      "AdaBoost Best Params: {'estimator__criterion': 'gini', 'estimator__max_depth': 2, 'estimator__max_features': 7, 'learning_rate': 0.45, 'n_estimators': 26}\n",
      "AdaBoost Feature Importances: [0.1885751  0.22924978 0.02321966 0.0707448  0.04704746 0.07434986\n",
      " 0.03863318 0.02130352 0.01761432 0.01630942 0.00795058 0.\n",
      " 0.         0.05444326 0.         0.08050383 0.01482421 0.00944737\n",
      " 0.         0.         0.01278048 0.02416768 0.02054383 0.0226259\n",
      " 0.         0.02566578 0.        ]\n"
     ]
    }
   ],
   "source": [
    "params = {\n",
    "    'estimator__criterion': ['gini', 'entropy'],\n",
    "    'estimator__max_features': [7, 8],\n",
    "    'estimator__max_depth': [1, 2],\n",
    "    'n_estimators': [23, 24, 25, 26, 27],\n",
    "    'learning_rate': [0.4, 0.45, 0.5, 0.55, 0.6]\n",
    "}\n",
    "grid = GridSearchCV(estimator=ada, param_grid=params, cv=5, n_jobs=-1)\n",
    "grid.fit(X, y)\n",
    "print(\"AdaBoost Best Score:\", grid.best_score_)\n",
    "print(\"AdaBoost Best Params:\", grid.best_params_)\n",
    "\n",
    "# 특성 중요도\n",
    "print(\"AdaBoost Feature Importances:\", grid.best_estimator_.feature_importances_)\n"
   ]
  }
 ],
 "metadata": {
  "kernelspec": {
   "display_name": "base",
   "language": "python",
   "name": "python3"
  },
  "language_info": {
   "codemirror_mode": {
    "name": "ipython",
    "version": 3
   },
   "file_extension": ".py",
   "mimetype": "text/x-python",
   "name": "python",
   "nbconvert_exporter": "python",
   "pygments_lexer": "ipython3",
   "version": "3.11.8"
  }
 },
 "nbformat": 4,
 "nbformat_minor": 5
}
