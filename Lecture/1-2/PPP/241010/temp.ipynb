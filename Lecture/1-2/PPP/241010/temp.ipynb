{
 "cells": [
  {
   "cell_type": "markdown",
   "metadata": {},
   "source": [
    "부동 소수점 주의"
   ]
  },
  {
   "cell_type": "code",
   "execution_count": null,
   "metadata": {},
   "outputs": [],
   "source": [
    "#include <stdio.h>\n",
    "\n",
    "int main(void){\n",
    "    double x = 0.0;\n",
    "    int i = 0;\n",
    "\n",
    "    for (i=0;i<=9;i++) {\n",
    "        x += 0.1;\n",
    "    }\n",
    "    if (x==1.0){\n",
    "        printf(\"x is 1.0\\n\");\n",
    "    }\n",
    "    else {\n",
    "        printf(\"x is not 1.0\\n\", x);\n",
    "    }\n",
    "    printf(\"x = %.20f\\n\", x);\n",
    "    \n",
    "    for (x=0.0; x != 1.0; x=x+0.1){\n",
    "        printf(\"x = %.20f\\n\", x);\n",
    "    }\n",
    "    return 0;\n",
    "}"
   ]
  }
 ],
 "metadata": {
  "kernelspec": {
   "display_name": "C",
   "language": "c",
   "name": "c"
  },
  "language_info": {
   "file_extension": ".c",
   "mimetype": "text/plain",
   "name": "c"
  }
 },
 "nbformat": 4,
 "nbformat_minor": 2
}
