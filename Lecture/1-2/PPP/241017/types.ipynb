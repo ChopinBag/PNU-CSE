{
 "cells": [
  {
   "cell_type": "markdown",
   "metadata": {},
   "source": [
    "# 복습\n",
    "Python : \"hello\" = 'hello'\n",
    "\n",
    "C : \"hello\" != 'hello'"
   ]
  },
  {
   "cell_type": "code",
   "execution_count": null,
   "metadata": {},
   "outputs": [],
   "source": [
    "#include <stdio.h>\n",
    "int main(void){\n",
    "    \n",
    "}"
   ]
  },
  {
   "cell_type": "markdown",
   "metadata": {},
   "source": [
    "NUL = '\\0'\n",
    "\n",
    "char a[4] = {97,98,99,0}; (O)\n",
    "\n",
    "char b[4] = {'a', 'b','c','\\0'} (O)\n",
    "\n",
    "char c[4] = {\"abc\"}; (O)\n",
    "\n",
    "문자열 = char 타입의 배열, 마지막에 NUL 값을 넣어주어야 함. \n",
    "\n",
    "'\\0' : 문자열의 끝을 알려주는 역할\n",
    "\n",
    "char c[] = {\"abc\"}; <--- 이렇게도 가능. 컴파일러가 계산해 줌.\n",
    "\n"
   ]
  },
  {
   "cell_type": "code",
   "execution_count": null,
   "metadata": {},
   "outputs": [],
   "source": [
    "#include <stdio.h>\n",
    "int main(void){\n",
    " char str[512];\n",
    " scanf(\"%s\", str);\n",
    " printf(\"%s\", str); \n",
    "}"
   ]
  },
  {
   "cell_type": "markdown",
   "metadata": {},
   "source": [
    "scanf(\"%s\", a);\n",
    "\n",
    "* String 에서는 & 안 씀\n",
    "\n",
    "* scnaf 함수를 사용 시 빈칸은 무시되어 입력되지않음\n",
    "\n",
    "* scanf 함수는 입력받고 그 뒤에 '\\0'을 붙여줌.\n",
    "\n",
    "\\\\\" : \" 출력\n",
    "\n",
    "\\\\' : ' 출력\n",
    "\n",
    "\\\\\\ : \\ 출력\n",
    "\n",
    "\\t : tab 간격\n",
    "\n",
    "'\\t' : 한글자로 취급\n",
    "\n"
   ]
  },
  {
   "cell_type": "markdown",
   "metadata": {},
   "source": [
    "# len() 함수 짜보기"
   ]
  },
  {
   "cell_type": "code",
   "execution_count": null,
   "metadata": {},
   "outputs": [],
   "source": [
    "char str[]=\"hello\\n\";\n",
    "for (int i=0;str[i];i++){print[str[i]];} // str[i]에서, i 가 str의 마지막 값에 해당하게 되면 str[i] = '\\0' 이 되어 false 값이 되기에 반복이 중지됨."
   ]
  },
  {
   "cell_type": "markdown",
   "metadata": {},
   "source": [
    "int a = 123;\n",
    "\n",
    "char b[] = \"123\";  \n",
    "\n",
    "둘은 명확히 다름.\n",
    "\n",
    "str[i]-'0' 많이 쓸것. -> 아스키코드를 숫자로 바꾸기"
   ]
  },
  {
   "cell_type": "code",
   "execution_count": 3,
   "metadata": {},
   "outputs": [
    {
     "name": "stdout",
     "output_type": "stream",
     "text": [
      "Sum of all digits in [b234,56a,1] : 21\n"
     ]
    }
   ],
   "source": [
    "#include <stdio.h>\n",
    "\n",
    "int is_digit (char ch) {\n",
    "    return (ch >= 0x30 && ch <= 0x39);  // ch>='0' && ch<='9' 같이 쓰는게 더 가독성 좋음\n",
    "}\n",
    "\n",
    "int main(void) {\n",
    "    int i; // index \n",
    "    int sum=0; // digit sum\n",
    "    char str[]=\"b234,56a,1\";\n",
    "    for(i=0;str[i];i=i+1) {\n",
    "        if (is_digit(str[i]))\n",
    "        sum = sum + (str[i]-'0');\n",
    "    }\n",
    "    printf(\"Sum of all digits in\");\n",
    "    printf(\" [%s] : %d\\n\",str,sum);\n",
    "    return 0;\n",
    "}"
   ]
  },
  {
   "cell_type": "markdown",
   "metadata": {},
   "source": [
    "int a=5;\n",
    "\n",
    "++a * a++;\n",
    "\n",
    "evaluation 은 unspecify 하므로 값을 결정할 수가 없다.\n",
    "\n",
    "한 문장안에 두번이상 쓰지 말것."
   ]
  },
  {
   "cell_type": "markdown",
   "metadata": {},
   "source": []
  }
 ],
 "metadata": {
  "kernelspec": {
   "display_name": "C",
   "language": "c",
   "name": "c"
  },
  "language_info": {
   "file_extension": ".c",
   "mimetype": "text/plain",
   "name": "c"
  }
 },
 "nbformat": 4,
 "nbformat_minor": 2
}
