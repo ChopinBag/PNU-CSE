{
 "cells": [
  {
   "cell_type": "markdown",
   "metadata": {
    "vscode": {
     "languageId": "plaintext"
    }
   },
   "source": [
    "# 1번 문제\n",
    "The given source code has some errors. Modify it properly to print out information about the products included in the following table.\n",
    "\n",
    "name\tprice\tquantity\n",
    "\n",
    "Tomato\t150\t    5\n",
    "\n",
    "Apple\t100\t    10\n",
    "\n",
    "Banana\t200\t    3\n",
    "\n",
    "Carrot\t50\t    7\n",
    "\n",
    "Pear\t300\t    2\n",
    "\n",
    "You are not allowed to add new variables and functions."
   ]
  },
  {
   "cell_type": "code",
   "execution_count": null,
   "metadata": {
    "vscode": {
     "languageId": "c"
    }
   },
   "outputs": [],
   "source": [
    "#include <stdio.h>\n",
    "\n",
    "typedef struct st_product{\n",
    "\tchar     *name;\n",
    "\tint      price;\n",
    "\tint   quantity;\n",
    "} Product;\n",
    "\n",
    "void print_product(Product *prod) {\n",
    "    \t\n",
    "\tprintf(\"Product name: %s\\n\", name);\n",
    "\tprintf(\"Product price: %dwon\\n\", price);\n",
    "\tprintf(\"Product quantity: %d\\n\\n\", quantity);\n",
    "    }\n",
    "\n",
    "void print_product_table(Product *p_prod){\n",
    "\tint total=0;\t\n",
    "    \t\n",
    "  while (0) {\n",
    "\t\tprint_product(p_prod);\n",
    "\t}\n",
    "    \tprintf(\"The total to buy all the products in the table : %d\\n\", total);\n",
    "}\n",
    "\n",
    "\n",
    "int main(void){\n",
    "\tProduct table[]={ {\"Tomato\", 150,  5},\n",
    "\t\t\t\t\t\t\t\t\t  {\"Apple\",  100, 10},\t\n",
    "\t\t\t\t\t\t\t\t\t  {\"Banana\", 200,  3},\n",
    "\t\t\t\t\t\t\t\t\t  {\"Carrot\",  50,  7},\n",
    "\t\t\t\t\t\t\t\t\t  {\"Pear\",   300,  2},\n",
    "\t\t\t\t\t\t\t\t\t  {\"\",  0,  0} }; \n",
    "\n",
    "\tprint_product_table(table);\n",
    "\n",
    "\treturn 0;\n",
    "}"
   ]
  },
  {
   "cell_type": "code",
   "execution_count": null,
   "metadata": {
    "vscode": {
     "languageId": "c"
    }
   },
   "outputs": [],
   "source": [
    "#include <stdio.h>\n",
    "\n",
    "typedef struct st_product{\n",
    "    char     *name;\n",
    "    int      price;\n",
    "    int   quantity;\n",
    "} Product;\n",
    "\n",
    "void print_product(Product *prod) {\n",
    "\n",
    "    printf(\"Product name: %s\\n\", prod->name);\n",
    "    printf(\"Product price: %dwon\\n\", prod->price);\n",
    "    printf(\"Product quantity: %d\\n\\n\", prod->quantity);\n",
    "}\n",
    "\n",
    "void print_product_table(Product *p_prod){\n",
    "    int total=0;\n",
    "\n",
    "    while (p_prod->quantity > 0) {\n",
    "        print_product(p_prod);\n",
    "        total += (p_prod->price) * (p_prod->quantity);\n",
    "        p_prod++;\n",
    "    }\n",
    "    printf(\"The total to buy all the products in the table : %d\\n\", total);\n",
    "}\n",
    "\n",
    "\n",
    "int main(void){\n",
    "    Product table[]={ {\"Tomato\", 150,  5},\n",
    "                                      {\"Apple\",  100, 10},\n",
    "                                      {\"Banana\", 200,  3},\n",
    "                                      {\"Carrot\",  50,  7},\n",
    "                                      {\"Pear\",   300,  2},\n",
    "                                      {\"\",  0,  0} };\n",
    "\n",
    "    print_product_table(table);\n",
    "\n",
    "    return 0;\n",
    "}"
   ]
  },
  {
   "cell_type": "markdown",
   "metadata": {
    "vscode": {
     "languageId": "plaintext"
    }
   },
   "source": [
    "# 2번 문제\n",
    "Complete the stud_print() and stud_swap() and the corresponding calling code in the main(). \n",
    "\n",
    "The stud_print() should work the same as the stud_printx() while the two functions differ in their parameters.\n",
    "\n",
    "The stud_swap() should swap the contents of 2 STUD type variables. Note that you need to define its parameters appropriately."
   ]
  },
  {
   "cell_type": "code",
   "execution_count": null,
   "metadata": {
    "vscode": {
     "languageId": "c"
    }
   },
   "outputs": [],
   "source": [
    "#include <stdio.h>\n",
    "typedef struct student {\n",
    "    int id;\n",
    "    char *pname;\n",
    "    double points;\n",
    "} STUD;\n",
    "\n",
    "void stud_printx(STUD s) {\n",
    "    printf(\"[%d:%s] = %lf\\n\", s.id, s.pname, s.points);\n",
    "}\n",
    "void stud_print(STUD *ps) {\n",
    "\n",
    "}\n",
    "void stud_swap() {\n",
    "\n",
    "\t\n",
    "}\n",
    "int main(void) {\n",
    "\tSTUD s1 = {1, \"Choi\", 9.9};\n",
    "\tSTUD s2 = {2, \"Park\", 0.1};\n",
    "\n",
    "\tstud_printx(s1);\n",
    "\tstud_printx(s2);\n",
    "    \tstud_swap();\n",
    "        \tstud_print(&s1);\n",
    "\tstud_print(&s2);\n",
    "\n",
    "\treturn 0;\n",
    "}"
   ]
  },
  {
   "cell_type": "code",
   "execution_count": null,
   "metadata": {
    "vscode": {
     "languageId": "c"
    }
   },
   "outputs": [],
   "source": [
    "#include <stdio.h>\n",
    "typedef struct student {\n",
    "    int id;\n",
    "    char *pname;\n",
    "    double points;\n",
    "} STUD;\n",
    "\n",
    "void stud_printx(STUD s) {\n",
    "    printf(\"[%d:%s] = %lf\\n\", s.id, s.pname, s.points);\n",
    "}\n",
    "void stud_print(STUD *ps) {\n",
    "    printf(\"[%d:%s] = %lf\\n\", ps->id, ps->pname, ps->points);\n",
    "}\n",
    "void stud_swap(STUD *s1, STUD *s2) {\n",
    "    STUD temp = *s1;\n",
    "    *s1 = *s2;\n",
    "    *s2 = temp;\n",
    "}\n",
    "int main(void) {\n",
    "    STUD s1 = {1, \"Choi\", 9.9};\n",
    "    STUD s2 = {2, \"Park\", 0.1};\n",
    "\n",
    "    stud_printx(s1);\n",
    "    stud_printx(s2);\n",
    "    stud_swap(&s1, &s2);\n",
    "    stud_print(&s1);\n",
    "    stud_print(&s2);\n",
    "\n",
    "    return 0;\n",
    "}"
   ]
  },
  {
   "cell_type": "markdown",
   "metadata": {
    "vscode": {
     "languageId": "sql"
    }
   },
   "source": [
    "# 3번 문제\n",
    "Complete the stud_get_last() and stud_compare_points() explained in the lecture slide - \"Topic-9 Structure\". Refer to pages 37, 39, and 42.\n",
    "\n",
    "Note that, contrary to the source code shown on page 39, you are not allowed to use local variables in implementing your stud_get_last();"
   ]
  },
  {
   "cell_type": "code",
   "execution_count": null,
   "metadata": {
    "vscode": {
     "languageId": "c"
    }
   },
   "outputs": [],
   "source": [
    "/**\n",
    "* @brief : Find the last valid element in a STUD array pointed by ps_array and return\n",
    "a pointer to the element. A STUD array pointed by ps_array is assumed that the next\n",
    "STUD element after the last valid element has a negative id value.\n",
    "* @return : pointer to the last valid STUD element on success. NULL otherwise\n",
    "* @param : the address of the STUD array to examine.\n",
    "*/\n",
    "STUD * stud_get_last(STUD *ps_array);\n",
    "\n",
    "/**\n",
    "* @brief : Compare the \"points\" values of two STUD variables pointed by ps1 and ps2.\n",
    "The result is the sign of the difference between the points values. That is, it is\n",
    "equal to the sign of (ps1->points – ps2->points)\n",
    "* @return : Positive if ps1->points > ps2->points, Zero if they are the same, Negative\n",
    "otherwise\n",
    "* @param : ps1, ps2 - Pointers to the STUD elements to compare in their points values.\n",
    "*/\n",
    "int stud_compare_points(STUD *ps1, STUD *ps2);\n",
    "\n",
    "/**\n",
    "* @brief : Find a valid STUD element with the lowest points in a STUD array whose\n",
    "first element's address is ps_begin and the last element's address is ps_end. If\n",
    "ps_end is not NULL, it is assumed that ps_end >= ps_begin and all STUD elements\n",
    "between ps_begin and ps_end are valid including the last element pointed by ps_end.\n",
    "If ps_end is NULL, the last element is not explicitly specified and a STUD array\n",
    "pointed by ps_begin is assumed that the next STUD element after the last valid element\n",
    "has a negative id value.\n",
    "* @return : pointer to an element with the lowest points on success. NULL otherwise\n",
    "* @param : ps_begin - the address of the first STUD element in the array to examine.\n",
    "ps_end – the address of the last STUD element in the array to examine.\n",
    "It may have NULL value. Refer \"brief\" in that case.\n",
    "*/\n",
    "STUD * stud_get_lowest_points(STUD *ps_begin, STUD *ps_end);"
   ]
  },
  {
   "cell_type": "code",
   "execution_count": null,
   "metadata": {
    "vscode": {
     "languageId": "c"
    }
   },
   "outputs": [],
   "source": [
    "#include <stdio.h>\n",
    "typedef struct student {\n",
    "\tint id;\n",
    "\tchar *pname;\n",
    "\tdouble points;\n",
    "} STUD;\n",
    "STUD * stud_get_last(STUD *ps_array) {\n",
    "\n",
    "\n",
    "\t\n",
    "\treturn ps_array;\n",
    "}\n",
    "\n",
    "int stud_compare_points(STUD *ps1, STUD *ps2) {\n",
    "\n",
    "\t\n",
    "\treturn 0;\n",
    "}\n",
    "\n",
    "\n",
    "int main(void) {\n",
    "\tSTUD pnucse[] = { {1, \"Choi\", 9.9}, {2, \"Park\", 0.1},\n",
    "\t\t{3, \"Kim\", 5.0 }, {4, \"Lee\", 3.0 }, {5, \"Moon\", 9.5 },\n",
    "\t\t{6, \"Kang\", 7.0 }, {7, \"Jeon\", 0.9 }, {-1, NULL, 0 } };\n",
    "\t\n",
    "\tSTUD pnucse2[] = { {1, \"Choi\", 9.9}, {2, \"Park\", 0.1},\n",
    "\t\t{3, \"Kim\", 5.0 }, {4, \"Lee\", 3.0 }, {5, \"Moon\", 9.5 },\n",
    "\t\t{-1, \"Kang\", 7.0 }, {7, \"Jeon\", 0.9 }, {-1, NULL, 0 } };\t\n",
    "\n",
    "\tSTUD *ps = pnucse;\n",
    "\tSTUD *psend1 = stud_get_last(pnucse);\n",
    "\tSTUD *psend2 = stud_get_last(pnucse2);\n",
    "\n",
    "\tif (stud_compare_points(ps,psend1) < 0) \n",
    "\t\tprintf(\"%s got a lower points than %s\\n\", ps->pname, psend1->pname);\n",
    "\telse\n",
    "\t\tprintf(\"%s got an equal or higher points than %s\\n\", ps->pname, psend1->pname);\n",
    "\n",
    "\tif (stud_compare_points(ps,psend2) < 0) \n",
    "\t\tprintf(\"%s got a lower points than %s\\n\", ps->pname, psend2->pname);\n",
    "\telse\n",
    "\t\tprintf(\"%s got an equal or higher points than %s\\n\", ps->pname, psend2->pname);\n",
    "\n",
    "\treturn 0;\n",
    "}\n"
   ]
  },
  {
   "cell_type": "code",
   "execution_count": null,
   "metadata": {
    "vscode": {
     "languageId": "c"
    }
   },
   "outputs": [],
   "source": [
    "#include <stdio.h>\n",
    "typedef struct student {\n",
    "    int id;\n",
    "    char *pname;\n",
    "    double points;\n",
    "} STUD;\n",
    "\n",
    "STUD * stud_get_last(STUD *ps_array) {\n",
    "    if (ps_array->id <= 0){return NULL;}\n",
    "\n",
    "    while(ps_array->id > 0) {\n",
    "        ps_array++;\n",
    "    }\n",
    "    return ps_array-1;\n",
    "}\n",
    "\n",
    "int stud_compare_points(STUD *ps1, STUD *ps2) {\n",
    "    if (ps1->points > ps2->points) {\n",
    "        return 1;\n",
    "    } else if (ps1->points == ps2->points) {\n",
    "        return 0;\n",
    "    } else {return -1;}\n",
    "}\n",
    "\n",
    "\n",
    "int main(void) {\n",
    "    STUD pnucse[] = { {1, \"Choi\", 9.9}, {2, \"Park\", 0.1},\n",
    "        {3, \"Kim\", 5.0 }, {4, \"Lee\", 3.0 }, {5, \"Moon\", 9.5 },\n",
    "        {6, \"Kang\", 7.0 }, {7, \"Jeon\", 0.9 }, {-1, NULL, 0 } };\n",
    "\n",
    "    STUD pnucse2[] = { {1, \"Choi\", 9.9}, {2, \"Park\", 0.1},\n",
    "        {3, \"Kim\", 5.0 }, {4, \"Lee\", 3.0 }, {5, \"Moon\", 9.5 },\n",
    "        {-1, \"Kang\", 7.0 }, {7, \"Jeon\", 0.9 }, {-1, NULL, 0 } };\n",
    "\n",
    "    STUD *ps = pnucse;\n",
    "    STUD *psend1 = stud_get_last(pnucse);\n",
    "    STUD *psend2 = stud_get_last(pnucse2);\n",
    "\n",
    "    if (stud_compare_points(ps,psend1) < 0)\n",
    "        printf(\"%s got a lower points than %s\\n\", ps->pname, psend1->pname);\n",
    "    else\n",
    "        printf(\"%s got an equal or higher points than %s\\n\", ps->pname, psend1->pname);\n",
    "\n",
    "    if (stud_compare_points(ps,psend2) < 0)\n",
    "        printf(\"%s got a lower points than %s\\n\", ps->pname, psend2->pname);\n",
    "    else\n",
    "        printf(\"%s got an equal or higher points than %s\\n\", ps->pname, psend2->pname);\n",
    "\n",
    "    return 0;\n",
    "}\n"
   ]
  },
  {
   "cell_type": "markdown",
   "metadata": {},
   "source": [
    "# 4번 문제\n",
    "You are given a function named \"xtime()\" returning a random time  between [2020/1/1, 00:00:00 ~ 2020/12/31, 23:59:59].\n",
    "\n",
    "The return value of \"xtime()\" is encoded as the same as the time() defined in <time.h>. The time value returned by xtime() is determined by the parameter time_index.\n",
    "\n",
    "Complete the function \"void print_local_time(time_t t)\" printing out the given time in local time using the localtime() defined in <time.h>.\n",
    "\n",
    "The required output form is as below. \n",
    "\n",
    "Ex) 2020/1/21, 23:30:40, Tuesday"
   ]
  },
  {
   "cell_type": "code",
   "execution_count": null,
   "metadata": {
    "vscode": {
     "languageId": "c"
    }
   },
   "outputs": [],
   "source": [
    "#include <stdio.h>\n",
    "#include <stdlib.h>\n",
    "#include <time.h>\n",
    "\n",
    "time_t xtime(int time_index);\n",
    "void print_local_time(time_t t) {\n",
    "\t\n",
    "\treturn;\n",
    "}\n",
    "int main(void) {\n",
    "\ttime_t t;\n",
    "\tint tindex;\n",
    "\n",
    "\tsrand(0);\n",
    "\tscanf(\"%d\", &tindex);\n",
    "\n",
    "\tt = xtime(tindex);\n",
    "\tprint_local_time(t);\n",
    "\n",
    "\treturn 0;\n",
    "}"
   ]
  },
  {
   "cell_type": "code",
   "execution_count": null,
   "metadata": {
    "vscode": {
     "languageId": "c"
    }
   },
   "outputs": [],
   "source": [
    "#include <stdio.h>\n",
    "#include <stdlib.h>\n",
    "#include <time.h>\n",
    "\n",
    "time_t xtime(int time_index);\n",
    "void print_local_time(time_t t) {\n",
    "\tstruct tm *lt = localtime(&t);\n",
    "\tconst\tchar *days[] = {\"Sunday\", \"Monday\", \"Tuesday\", \"Wednesday\", \"Thursday\", \"Friday\", \"Saturday\"};\n",
    "\t\n",
    "\tprintf(\"%d/%d/%d, %02d:%02d:%02d, %s\",\n",
    "\t\t\t lt->tm_year + 1900,\n",
    "\t\t\t lt->tm_mon + 1,\n",
    "\t\t\t lt->tm_mday,\n",
    "\t\t\t lt->tm_hour,\n",
    "\t\t\t lt->tm_min,\n",
    "\t\t\t lt->tm_sec,\n",
    "\t\t\t days[lt->tm_wday]);\n",
    "\treturn;\n",
    "}\n",
    "int main(void) {\n",
    "\ttime_t t;\n",
    "\tint tindex;\n",
    "\n",
    "\tsrand(0);\n",
    "\tscanf(\"%d\", &tindex);\n",
    "\n",
    "\tt = xtime(tindex);\n",
    "\tprint_local_time(t);\n",
    "\n",
    "\treturn 0;\n",
    "}"
   ]
  },
  {
   "cell_type": "markdown",
   "metadata": {},
   "source": [
    "# 5번 문제\n",
    "Complete the stud_print_array_in_decreasing_order(STUD *pnucse) that prints out an array of STUD type whose address is given as pnucse in the decreasing order of points. \n",
    "\n",
    "You can use the following functions whose source codes are hidden on purpose.\n",
    "\n",
    "void stud_print(STUD *ps);\n",
    "void stud_swap(STUD *a, STUD *b);\n",
    "STUD * stud_get_last(STUD *ps_array);\n",
    "int stud_compare_points(STUD *ps1, STUD *ps2);\n",
    "STUD * stud_get_lowest_points(STUD *ps_begin, STUD *ps_end);"
   ]
  },
  {
   "cell_type": "code",
   "execution_count": null,
   "metadata": {
    "vscode": {
     "languageId": "c"
    }
   },
   "outputs": [],
   "source": [
    "#include <stdio.h>\n",
    "typedef struct student {\n",
    "    int id;\n",
    "    char *pname;\n",
    "    double points;\n",
    "} STUD;\n",
    "\n",
    "void stud_print(STUD *ps);\n",
    "void stud_swap(STUD *a, STUD *b);\n",
    "STUD * stud_get_last(STUD *ps_array);\n",
    "int stud_compare_points(STUD *ps1, STUD *ps2);\n",
    "STUD * stud_get_lowest_points(STUD *ps_begin, STUD *ps_end);\n",
    "void stud_print_array_in_decreasing_order(STUD * pnucse) {\n",
    "\n",
    "\n",
    "\t\n",
    "}\n",
    "int main(void) {\n",
    "    STUD pnucse[] = { {1, \"Choi\", 9.9}, {2, \"Park\", 0.1},\n",
    "\t\t{3, \"Kim\", 5.0 }, {4, \"Lee\", 3.0 }, {5, \"Moon\", 9.5 },\n",
    "\t\t{6, \"Kang\", 7.0 }, {7, \"Jeon\", 0.9 }, {-1, NULL, 0 } };\n",
    "\n",
    "\tint test_id = 0;\n",
    "\tscanf(\"%d\",&test_id);\n",
    "\tif (test_id) set_values_of_pnucse(pnucse, test_id); \n",
    "\t\n",
    "\tstud_print_array_in_decreasing_order(pnucse);\n",
    "\n",
    "\treturn 0;\n",
    "}"
   ]
  },
  {
   "cell_type": "code",
   "execution_count": null,
   "metadata": {
    "vscode": {
     "languageId": "c"
    }
   },
   "outputs": [],
   "source": [
    "void stud_print_array_in_decreasing_order(STUD * pnucse) {\n",
    "\tif(!pnucse){return;}\n",
    "\tSTUD *last = stud_get_last(pnucse);\n",
    "\tif(!last){return;}\n",
    "\tint len = last - pnucse + 1;\n",
    "\t\n",
    "\tfor(int i=0; i<len-1;i++){\n",
    "\t\tfor (int j=0; j<len-i-1; j++){\n",
    "\t\t\tif(pnucse[j].points < pnucse[j+1].points){\n",
    "\t\t\t\tstud_swap(&pnucse[j], &pnucse[j+1]);\n",
    "\t\t\t}\n",
    "\t\t}\n",
    "\t}\n",
    "\t\n",
    "\tfor(int i=0; i<len; i++){\n",
    "\t\tstud_print(&pnucse[i]);\n",
    "\t}\n",
    "\treturn;\n",
    "}"
   ]
  }
 ],
 "metadata": {
  "language_info": {
   "name": "python"
  }
 },
 "nbformat": 4,
 "nbformat_minor": 2
}
